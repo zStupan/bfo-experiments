{
 "cells": [
  {
   "cell_type": "markdown",
   "metadata": {
    "pycharm": {
     "name": "#%% md\n"
    }
   },
   "source": [
    "# BFO Experiments\n",
    "\n",
    "In these experiments we compared the ***Bacterial Foraging Optimization***\n",
    "(BFO) algorithm, with 3 other popular nature-inspired algorithms:\n",
    "***Differential Evolution*** (DE),\n",
    "***Particle Swarm Optimization*** (PSO) and the ***Bat Algorithm*** (BA).\n",
    "Their performance was evaluated on 10 popular test functions.\n",
    "\n",
    "## Test Functions\n",
    "\n",
    "| Name | Function | Search range | Global optimum |\n",
    "| :- | :-: | :-: | :-: |\n",
    "| Sphere | $$f_1(\\vec{x}) = \\sum_{i=1}^{D} x_i^2 $$ | $$[-5.12, 5.12]^D$$ | $$f_1(\\vec{0}) = 0$$ |\n",
    "| Rosenbrock | $$f_2(\\vec{x}) = \\sum_{i=1}^{D-1} (100 (x_{i+1} - x_i^2)^2 + (x_i - 1)^2) $$ | $$[-2.048, 2.048]^D$$ | $$f_2(\\vec{1}) = 0$$ |\n",
    "| Rastrigin | $$f_3(\\vec{x}) = 10D + \\sum_{i=1}^D \\left(x_i^2 -10\\cos(2\\pi x_i)\\right) $$ | $$[-5.12, 5.12]^D$$ | $$f_3(\\vec{0}) = 0$$ |\n",
    "| Griewank | $$f_4(\\vec{x}) = \\sum_{i=1}^D \\frac{x_i^2}{4000} - \\prod_{i=1}^D \\cos(\\frac{x_i}{\\sqrt{i}}) + 1 $$ | $$[-600, 600]^D$$ | $$f_4(\\vec{0}) = 0$$ |\n",
    "| Ackley | $$f_5(\\vec{x}) = -a\\;\\exp\\left(-b \\sqrt{\\frac{1}{D} \\sum_{i=1}^D x_i^2}\\right) - \\exp\\left(\\frac{1}{D} \\sum_{i=1}^D cos(c\\;x_i)\\right) + a + \\exp(1) $$ | $$[-32.768, 32.768]^D$$ | $$f_5(\\vec{0}) = 0$$ |\n",
    "| Schwefel | $$f_6(\\vec{x}) = 418.9829d - \\sum_{i=1}^{D} x_i \\sin(\\sqrt{\\lvert x_i \\rvert}) $$ | $$[-500, 500]^D$$ | $$f_6(\\vec{420.9687}) = 0$$ |\n",
    "| Alpine | $$f_7(\\vec{x}) = \\sum_{i=1}^{D} \\lvert x_i \\sin(x_i)+0.1x_i \\rvert $$ | $$[-10, 10]^D$$ | $$f_7(\\vec{0}) = 0$$ |\n",
    "| Whitley | $$f_8(\\vec{x}) = \\sum_{i=1}^D \\sum_{j=1}^D \\left(\\frac{(100(x_i^2-x_j)^2 + (1-x_j)^2)^2}{4000} - \\cos(100(x_i^2-x_j)^2 + (1-x_j)^2)+1\\right) $$ | $$[-10, 10]^D$$ | $$f_8(\\vec{1}) = 0$$ |\n",
    "| Csendes | $$f_9(\\vec{x}) = \\sum_{i=1}^D x_i^6\\left( 2 + \\sin \\frac{1}{x_i}\\right) $$ | $$[-1, 1]^D$$ | $$f_9(\\vec{0}) = 0$$ |\n",
    "| Dixon Price | $$f_{10}(\\vec{x}) = (x_1 - 1)^2 + \\sum_{i = 2}^D i (2x_i^2 - x_{i - 1})^2 $$ | $$[-10, 10]^D$$ | $$f_{10}(x^*) = 0 \\text{ at } x^*=(2^{-\\frac{2^1 - 2}{2^1}}, \\cdots , 2^{-\\frac{2^i - 2}{2^i}} , \\cdots , 2^{-\\frac{2^D - 2}{2^D}})$$|\n",
    "\n",
    "## Parameter Settings\n",
    "\n",
    "We selected the population size of 100 for all algorithms. The algorithm specific\n",
    "parameters are described below.\n",
    "\n",
    "### BFO\n",
    "\n",
    "We used the classic version of BFO as presented by K. M. Passino,\n",
    "with the following parameters:\n",
    "\n",
    "$N_c = \\frac{N_{gen}}{N_{re} \\times N_{ed}}$, where $N_{gen}$ is the number\n",
    "of iterations. This ensures that $N_c \\times N_{re} \\times N_{ed} = N_{gen}$,\n",
    "if $N_{gen}$ is divisible by $N_{re} \\times N_{ed}$, of course<br>\n",
    "$N_s = 4$<br>\n",
    "$N_{re} = 5$<br>\n",
    "$N_{ed} = 2$<br>\n",
    "$P_{ed} = 0.25$<br>\n",
    "$C(i) = 0.1$<br>\n",
    "$d_{attract} = 0.1$<br>\n",
    "$w_{attract} = 0.2$<br>\n",
    "$h_{repellent} = d_{attract}$<br>\n",
    "$w_{repellent} = 10.0$<br>\n",
    "\n",
    "### DE\n",
    "\n",
    "We used the DE/rand/1/bin variant with ${CR}=0.9$ and $F=0.8$.\n",
    "\n",
    "### PSO\n",
    "\n",
    "We used the global best PSO with velocity clamping and a constant inertia\n",
    "weight. Parameters: $w=0.9$, $c1=0.5$, $c2=0.3$, $v_{min} = -1.0$, $v_{max}=1.0$.\n",
    "\n",
    "### BA\n",
    "\n",
    "The standard Bat algorithm was used with: $A=1.0$, $r_0=1.0$, $\\alpha = 0.97$, $\\gamma=0.1$,\n",
    "$Q_{min} = 0.0$, $Q_{max}=2.0$.\n",
    "\n",
    "## The Experiments\n",
    "\n",
    "We performed 25 independent runs for each algorithm on 10, 20, 30, 50 and 100 dimensional problems,\n",
    "logging the best, worst and mean fitness values, along with the standard deviation.\n",
    "The stopping condition was set as  reaching $1000 \\times D$, where $D$ is the dimension of the problem to be optimized."
   ]
  },
  {
   "cell_type": "code",
   "execution_count": 1,
   "outputs": [],
   "source": [
    "import pandas as pd\n",
    "\n",
    "df_10d = pd.read_pickle('results/10d.pkl')\n",
    "# df_20d = pd.read_pickle('results/20d.pkl')\n",
    "# df_30d = pd.read_pickle('results/30d.pkl')\n",
    "# df_50d = pd.read_pickle('results/50d.pkl')\n",
    "# df_100d = pd.read_pickle('results/100d.pkl')"
   ],
   "metadata": {
    "collapsed": false,
    "pycharm": {
     "name": "#%%\n"
    }
   }
  },
  {
   "cell_type": "markdown",
   "source": [
    "#### Results on 10D functions\n"
   ],
   "metadata": {
    "collapsed": false
   }
  },
  {
   "cell_type": "code",
   "execution_count": 2,
   "metadata": {
    "pycharm": {
     "name": "#%%\n"
    }
   },
   "outputs": [
    {
     "data": {
      "text/plain": "                         BFO             DE        WVCPSO             BA\nFunction                                                                \nsphere      Min     0.011430  1.787406e-121  0.000000e+00  2.949634e-267\n            Max     0.040380  4.449082e-119  0.000000e+00  8.100743e-267\n            Avg     0.028189  9.307530e-120  0.000000e+00  5.697310e-267\n            Std     0.006727  1.063576e-119  0.000000e+00   0.000000e+00\nrosenbrock  Min     6.706220   0.000000e+00  1.135590e-28   2.784124e-03\n            Max    10.881655   0.000000e+00  3.986579e+00   4.518783e+00\n            Avg     8.989356   0.000000e+00  3.189263e-01   8.116096e-01\n            Std     1.088407   0.000000e+00  1.081532e+00   1.513704e+00\nrastrigin   Min    14.321996   0.000000e+00  9.949591e-01   2.188906e+01\n            Max    25.404933   6.866812e+00  1.492437e+01   6.765687e+01\n            Avg    21.068551   5.532610e-01  5.611567e+00   4.716086e+01\n            Std     2.506990   1.391548e+00  2.976638e+00   1.230205e+01\ngriewank    Min     6.929093   0.000000e+00  4.892705e+01   3.965142e+01\n            Max    27.606559   3.509510e-01  1.360451e+02   1.109822e+02\n            Avg    16.400214   5.009974e-02  9.784430e+01   8.049837e+01\n            Std     4.943621   7.543141e-02  1.923530e+01   1.738343e+01\nackley      Min     0.315086   4.440892e-16  3.996803e-15   1.643869e+01\n            Max     0.632885   3.996803e-15  7.549517e-15   1.922411e+01\n            Avg     0.492544   3.854694e-15  4.707346e-15   1.806720e+01\n            Std     0.072206   6.961869e-16  1.421085e-15   6.311809e-01\nschwefel    Min   356.845978   1.272757e-04  1.391472e+03   1.164668e+03\n            Max  1370.923459   1.184385e+02  2.381027e+03   2.422338e+03\n            Avg   983.899647   2.368779e+01  1.922360e+03   1.915500e+03\n            Std   237.829111   4.737533e+01  2.245709e+02   3.670434e+02\nalpine1     Min     0.322968   1.665335e-16  5.551115e-17   2.220446e-16\n            Max     0.577208   8.202343e-02  1.165734e-15   3.647831e+00\n            Avg     0.464347   1.966461e-02  3.264056e-16   2.357792e+00\n            Std     0.055950   2.521012e-02  1.969324e-16   1.087718e+00\nwhitley     Min    42.980571   9.864672e-01  1.865952e+01   1.860509e+01\n            Max    64.009189   3.751209e+01  4.609499e+01   6.775818e+01\n            Avg    58.657128   1.186056e+01  3.201165e+01   4.496446e+01\n            Std     4.562656   1.250305e+01  7.732711e+00   1.304415e+01\ncsendes     Min   -16.223616  -1.682942e+01 -1.682942e+01  -1.346436e+01\n            Max   -14.369593  -1.682942e+01 -1.514689e+01  -6.733007e+00\n            Avg   -15.013370  -1.682942e+01 -1.676212e+01  -1.124282e+01\n            Std     0.495922   0.000000e+00  3.297070e-01   1.697497e+00\ndixon_price Min     0.037164   1.666101e-67  0.000000e+00   0.000000e+00\n            Max     0.219952   1.112831e-42  1.848893e-31   2.057020e+00\n            Avg     0.127235   4.455475e-44  1.232595e-32   8.228151e-02\n            Std     0.047624   2.180611e-43  3.945267e-32   4.030918e-01",
      "text/html": "<div>\n<style scoped>\n    .dataframe tbody tr th:only-of-type {\n        vertical-align: middle;\n    }\n\n    .dataframe tbody tr th {\n        vertical-align: top;\n    }\n\n    .dataframe thead th {\n        text-align: right;\n    }\n</style>\n<table border=\"1\" class=\"dataframe\">\n  <thead>\n    <tr style=\"text-align: right;\">\n      <th></th>\n      <th></th>\n      <th>BFO</th>\n      <th>DE</th>\n      <th>WVCPSO</th>\n      <th>BA</th>\n    </tr>\n    <tr>\n      <th>Function</th>\n      <th></th>\n      <th></th>\n      <th></th>\n      <th></th>\n      <th></th>\n    </tr>\n  </thead>\n  <tbody>\n    <tr>\n      <th rowspan=\"4\" valign=\"top\">sphere</th>\n      <th>Min</th>\n      <td>0.011430</td>\n      <td>1.787406e-121</td>\n      <td>0.000000e+00</td>\n      <td>2.949634e-267</td>\n    </tr>\n    <tr>\n      <th>Max</th>\n      <td>0.040380</td>\n      <td>4.449082e-119</td>\n      <td>0.000000e+00</td>\n      <td>8.100743e-267</td>\n    </tr>\n    <tr>\n      <th>Avg</th>\n      <td>0.028189</td>\n      <td>9.307530e-120</td>\n      <td>0.000000e+00</td>\n      <td>5.697310e-267</td>\n    </tr>\n    <tr>\n      <th>Std</th>\n      <td>0.006727</td>\n      <td>1.063576e-119</td>\n      <td>0.000000e+00</td>\n      <td>0.000000e+00</td>\n    </tr>\n    <tr>\n      <th rowspan=\"4\" valign=\"top\">rosenbrock</th>\n      <th>Min</th>\n      <td>6.706220</td>\n      <td>0.000000e+00</td>\n      <td>1.135590e-28</td>\n      <td>2.784124e-03</td>\n    </tr>\n    <tr>\n      <th>Max</th>\n      <td>10.881655</td>\n      <td>0.000000e+00</td>\n      <td>3.986579e+00</td>\n      <td>4.518783e+00</td>\n    </tr>\n    <tr>\n      <th>Avg</th>\n      <td>8.989356</td>\n      <td>0.000000e+00</td>\n      <td>3.189263e-01</td>\n      <td>8.116096e-01</td>\n    </tr>\n    <tr>\n      <th>Std</th>\n      <td>1.088407</td>\n      <td>0.000000e+00</td>\n      <td>1.081532e+00</td>\n      <td>1.513704e+00</td>\n    </tr>\n    <tr>\n      <th rowspan=\"4\" valign=\"top\">rastrigin</th>\n      <th>Min</th>\n      <td>14.321996</td>\n      <td>0.000000e+00</td>\n      <td>9.949591e-01</td>\n      <td>2.188906e+01</td>\n    </tr>\n    <tr>\n      <th>Max</th>\n      <td>25.404933</td>\n      <td>6.866812e+00</td>\n      <td>1.492437e+01</td>\n      <td>6.765687e+01</td>\n    </tr>\n    <tr>\n      <th>Avg</th>\n      <td>21.068551</td>\n      <td>5.532610e-01</td>\n      <td>5.611567e+00</td>\n      <td>4.716086e+01</td>\n    </tr>\n    <tr>\n      <th>Std</th>\n      <td>2.506990</td>\n      <td>1.391548e+00</td>\n      <td>2.976638e+00</td>\n      <td>1.230205e+01</td>\n    </tr>\n    <tr>\n      <th rowspan=\"4\" valign=\"top\">griewank</th>\n      <th>Min</th>\n      <td>6.929093</td>\n      <td>0.000000e+00</td>\n      <td>4.892705e+01</td>\n      <td>3.965142e+01</td>\n    </tr>\n    <tr>\n      <th>Max</th>\n      <td>27.606559</td>\n      <td>3.509510e-01</td>\n      <td>1.360451e+02</td>\n      <td>1.109822e+02</td>\n    </tr>\n    <tr>\n      <th>Avg</th>\n      <td>16.400214</td>\n      <td>5.009974e-02</td>\n      <td>9.784430e+01</td>\n      <td>8.049837e+01</td>\n    </tr>\n    <tr>\n      <th>Std</th>\n      <td>4.943621</td>\n      <td>7.543141e-02</td>\n      <td>1.923530e+01</td>\n      <td>1.738343e+01</td>\n    </tr>\n    <tr>\n      <th rowspan=\"4\" valign=\"top\">ackley</th>\n      <th>Min</th>\n      <td>0.315086</td>\n      <td>4.440892e-16</td>\n      <td>3.996803e-15</td>\n      <td>1.643869e+01</td>\n    </tr>\n    <tr>\n      <th>Max</th>\n      <td>0.632885</td>\n      <td>3.996803e-15</td>\n      <td>7.549517e-15</td>\n      <td>1.922411e+01</td>\n    </tr>\n    <tr>\n      <th>Avg</th>\n      <td>0.492544</td>\n      <td>3.854694e-15</td>\n      <td>4.707346e-15</td>\n      <td>1.806720e+01</td>\n    </tr>\n    <tr>\n      <th>Std</th>\n      <td>0.072206</td>\n      <td>6.961869e-16</td>\n      <td>1.421085e-15</td>\n      <td>6.311809e-01</td>\n    </tr>\n    <tr>\n      <th rowspan=\"4\" valign=\"top\">schwefel</th>\n      <th>Min</th>\n      <td>356.845978</td>\n      <td>1.272757e-04</td>\n      <td>1.391472e+03</td>\n      <td>1.164668e+03</td>\n    </tr>\n    <tr>\n      <th>Max</th>\n      <td>1370.923459</td>\n      <td>1.184385e+02</td>\n      <td>2.381027e+03</td>\n      <td>2.422338e+03</td>\n    </tr>\n    <tr>\n      <th>Avg</th>\n      <td>983.899647</td>\n      <td>2.368779e+01</td>\n      <td>1.922360e+03</td>\n      <td>1.915500e+03</td>\n    </tr>\n    <tr>\n      <th>Std</th>\n      <td>237.829111</td>\n      <td>4.737533e+01</td>\n      <td>2.245709e+02</td>\n      <td>3.670434e+02</td>\n    </tr>\n    <tr>\n      <th rowspan=\"4\" valign=\"top\">alpine1</th>\n      <th>Min</th>\n      <td>0.322968</td>\n      <td>1.665335e-16</td>\n      <td>5.551115e-17</td>\n      <td>2.220446e-16</td>\n    </tr>\n    <tr>\n      <th>Max</th>\n      <td>0.577208</td>\n      <td>8.202343e-02</td>\n      <td>1.165734e-15</td>\n      <td>3.647831e+00</td>\n    </tr>\n    <tr>\n      <th>Avg</th>\n      <td>0.464347</td>\n      <td>1.966461e-02</td>\n      <td>3.264056e-16</td>\n      <td>2.357792e+00</td>\n    </tr>\n    <tr>\n      <th>Std</th>\n      <td>0.055950</td>\n      <td>2.521012e-02</td>\n      <td>1.969324e-16</td>\n      <td>1.087718e+00</td>\n    </tr>\n    <tr>\n      <th rowspan=\"4\" valign=\"top\">whitley</th>\n      <th>Min</th>\n      <td>42.980571</td>\n      <td>9.864672e-01</td>\n      <td>1.865952e+01</td>\n      <td>1.860509e+01</td>\n    </tr>\n    <tr>\n      <th>Max</th>\n      <td>64.009189</td>\n      <td>3.751209e+01</td>\n      <td>4.609499e+01</td>\n      <td>6.775818e+01</td>\n    </tr>\n    <tr>\n      <th>Avg</th>\n      <td>58.657128</td>\n      <td>1.186056e+01</td>\n      <td>3.201165e+01</td>\n      <td>4.496446e+01</td>\n    </tr>\n    <tr>\n      <th>Std</th>\n      <td>4.562656</td>\n      <td>1.250305e+01</td>\n      <td>7.732711e+00</td>\n      <td>1.304415e+01</td>\n    </tr>\n    <tr>\n      <th rowspan=\"4\" valign=\"top\">csendes</th>\n      <th>Min</th>\n      <td>-16.223616</td>\n      <td>-1.682942e+01</td>\n      <td>-1.682942e+01</td>\n      <td>-1.346436e+01</td>\n    </tr>\n    <tr>\n      <th>Max</th>\n      <td>-14.369593</td>\n      <td>-1.682942e+01</td>\n      <td>-1.514689e+01</td>\n      <td>-6.733007e+00</td>\n    </tr>\n    <tr>\n      <th>Avg</th>\n      <td>-15.013370</td>\n      <td>-1.682942e+01</td>\n      <td>-1.676212e+01</td>\n      <td>-1.124282e+01</td>\n    </tr>\n    <tr>\n      <th>Std</th>\n      <td>0.495922</td>\n      <td>0.000000e+00</td>\n      <td>3.297070e-01</td>\n      <td>1.697497e+00</td>\n    </tr>\n    <tr>\n      <th rowspan=\"4\" valign=\"top\">dixon_price</th>\n      <th>Min</th>\n      <td>0.037164</td>\n      <td>1.666101e-67</td>\n      <td>0.000000e+00</td>\n      <td>0.000000e+00</td>\n    </tr>\n    <tr>\n      <th>Max</th>\n      <td>0.219952</td>\n      <td>1.112831e-42</td>\n      <td>1.848893e-31</td>\n      <td>2.057020e+00</td>\n    </tr>\n    <tr>\n      <th>Avg</th>\n      <td>0.127235</td>\n      <td>4.455475e-44</td>\n      <td>1.232595e-32</td>\n      <td>8.228151e-02</td>\n    </tr>\n    <tr>\n      <th>Std</th>\n      <td>0.047624</td>\n      <td>2.180611e-43</td>\n      <td>3.945267e-32</td>\n      <td>4.030918e-01</td>\n    </tr>\n  </tbody>\n</table>\n</div>"
     },
     "execution_count": 2,
     "metadata": {},
     "output_type": "execute_result"
    }
   ],
   "source": [
    "df_10d"
   ]
  },
  {
   "cell_type": "markdown",
   "metadata": {},
   "source": [
    "#### Results on 20D functions\n"
   ]
  },
  {
   "cell_type": "code",
   "execution_count": 3,
   "metadata": {
    "pycharm": {
     "name": "#%%\n"
    }
   },
   "outputs": [],
   "source": [
    "# df_20d"
   ]
  },
  {
   "cell_type": "markdown",
   "metadata": {},
   "source": [
    "#### Results on 30D functions"
   ]
  },
  {
   "cell_type": "code",
   "execution_count": 4,
   "metadata": {
    "pycharm": {
     "name": "#%%\n"
    }
   },
   "outputs": [],
   "source": [
    "# df_30d"
   ]
  },
  {
   "cell_type": "markdown",
   "metadata": {
    "pycharm": {
     "name": "#%% md\n"
    }
   },
   "source": [
    "#### Results on 50D functions"
   ]
  },
  {
   "cell_type": "code",
   "execution_count": 5,
   "metadata": {
    "pycharm": {
     "name": "#%%\n"
    }
   },
   "outputs": [],
   "source": [
    "# df_50d"
   ]
  },
  {
   "cell_type": "markdown",
   "metadata": {},
   "source": [
    "#### Results on 100D functions"
   ]
  },
  {
   "cell_type": "code",
   "execution_count": 6,
   "metadata": {
    "pycharm": {
     "name": "#%%\n"
    }
   },
   "outputs": [],
   "source": [
    "# df_100d\n"
   ]
  }
 ],
 "metadata": {
  "kernelspec": {
   "display_name": "Python 3 (ipykernel)",
   "language": "python",
   "name": "python3"
  },
  "language_info": {
   "codemirror_mode": {
    "name": "ipython",
    "version": 3
   },
   "file_extension": ".py",
   "mimetype": "text/x-python",
   "name": "python",
   "nbconvert_exporter": "python",
   "pygments_lexer": "ipython3",
   "version": "3.9.6"
  }
 },
 "nbformat": 4,
 "nbformat_minor": 1
}