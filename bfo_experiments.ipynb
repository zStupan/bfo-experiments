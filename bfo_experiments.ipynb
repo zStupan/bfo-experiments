{
 "cells": [
  {
   "cell_type": "markdown",
   "metadata": {
    "pycharm": {
     "name": "#%% md\n"
    }
   },
   "source": [
    "# BFO Experiments\n",
    "\n",
    "In these experiments we compared the ***Bacterial Foraging Optimization***\n",
    "(BFO) algorithm, with 3 other popular nature-inspired algorithms:\n",
    "***Differential Evolution*** (DE),\n",
    "***Particle Swarm Optimization*** (PSO) and the ***Bat Algorithm*** (BA).\n",
    "Their performance was evaluated on 10 popular test functions.\n",
    "\n",
    "## Test Functions\n",
    "\n",
    "| Name | Function | Search range | Global optimum |\n",
    "| :- | :-: | :-: | :-: |\n",
    "| Sphere | $$f_1(\\vec{x}) = \\sum_{i=1}^{D} x_i^2 $$ | $$[-5.12, 5.12]^D$$ | $$f_1(\\vec{0}) = 0$$ |\n",
    "| Rosenbrock | $$f_2(\\vec{x}) = \\sum_{i=1}^{D-1} (100 (x_{i+1} - x_i^2)^2 + (x_i - 1)^2) $$ | $$[-2.048, 2.048]^D$$ | $$f_2(\\vec{1}) = 0$$ |\n",
    "| Rastrigin | $$f_3(\\vec{x}) = 10D + \\sum_{i=1}^D \\left(x_i^2 -10\\cos(2\\pi x_i)\\right) $$ | $$[-5.12, 5.12]^D$$ | $$f_3(\\vec{0}) = 0$$ |\n",
    "| Griewank | $$f_4(\\vec{x}) = \\sum_{i=1}^D \\frac{x_i^2}{4000} - \\prod_{i=1}^D \\cos(\\frac{x_i}{\\sqrt{i}}) + 1 $$ | $$[-600, 600]^D$$ | $$f_4(\\vec{0}) = 0$$ |\n",
    "| Ackley | $$f_5(\\vec{x}) = -a\\;\\exp\\left(-b \\sqrt{\\frac{1}{D} \\sum_{i=1}^D x_i^2}\\right) - \\exp\\left(\\frac{1}{D} \\sum_{i=1}^D cos(c\\;x_i)\\right) + a + \\exp(1) $$ | $$[-32.768, 32.768]^D$$ | $$f_5(\\vec{0}) = 0$$ |\n",
    "| Schwefel | $$f_6(\\vec{x}) = 418.9829d - \\sum_{i=1}^{D} x_i \\sin(\\sqrt{\\lvert x_i \\rvert}) $$ | $$[-500, 500]^D$$ | $$f_6(\\vec{420.9687}) = 0$$ |\n",
    "| Alpine | $$f_7(\\vec{x}) = \\sum_{i=1}^{D} \\lvert x_i \\sin(x_i)+0.1x_i \\rvert $$ | $$[-10, 10]^D$$ | $$f_7(\\vec{0}) = 0$$ |\n",
    "| Whitley | $$f_8(\\vec{x}) = \\sum_{i=1}^D \\sum_{j=1}^D \\left(\\frac{(100(x_i^2-x_j)^2 + (1-x_j)^2)^2}{4000} - \\cos(100(x_i^2-x_j)^2 + (1-x_j)^2)+1\\right) $$ | $$[-10, 10]^D$$ | $$f_8(\\vec{1}) = 0$$ |\n",
    "| Csendes | $$f_9(\\vec{x}) = \\sum_{i=1}^D x_i^6\\left( 2 + \\sin \\frac{1}{x_i}\\right) $$ | $$[-1, 1]^D$$ | $$f_9(\\vec{0}) = 0$$ |\n",
    "| Dixon Price | $$f_{10}(\\vec{x}) = (x_1 - 1)^2 + \\sum_{i = 2}^D i (2x_i^2 - x_{i - 1})^2 $$ | $$[-10, 10]^D$$ | $$f_{10}(x^*) = 0 \\text{ at } x^*=(2^{-\\frac{2^1 - 2}{2^1}}, \\cdots , 2^{-\\frac{2^i - 2}{2^i}} , \\cdots , 2^{-\\frac{2^D - 2}{2^D}})$$|\n",
    "\n",
    "## Parameter Settings\n",
    "\n",
    "We selected the population size of 100 for all algorithms. The algorithm specific\n",
    "parameters are described below.\n",
    "\n",
    "### BFO\n",
    "\n",
    "We used the classic version of BFO as presented by K. M. Passino,\n",
    "with the following parameters:\n",
    "\n",
    "$N_c = \\frac{N_{gen}}{N_{re} \\times N_{ed}}$, where $N_{gen}$ is the number\n",
    "of iterations. This ensures that $N_c \\times N_{re} \\times N_{ed} = N_{gen}$,\n",
    "if $N_{gen}$ is divisible by $N_{re} \\times N_{ed}$, of course<br>\n",
    "$N_s = 4$<br>\n",
    "$N_{re} = 5$<br>\n",
    "$N_{ed} = 2$<br>\n",
    "$P_{ed} = 0.25$<br>\n",
    "$C(i) = 0.1$<br>\n",
    "$d_{attract} = 0.1$<br>\n",
    "$w_{attract} = 0.2$<br>\n",
    "$h_{repellent} = d_{attract}$<br>\n",
    "$w_{repellent} = 10.0$<br>\n",
    "\n",
    "### DE\n",
    "\n",
    "We used the DE/rand/1/bin variant with ${CR}=0.9$ and $F=0.8$.\n",
    "\n",
    "### PSO\n",
    "\n",
    "We used the global best PSO with velocity clamping and a constant inertia\n",
    "weight. Parameters: $w=0.9$, $c1=0.5$, $c2=0.3$, $v_{min} = -1.0$, $v_{max}=1.0$.\n",
    "\n",
    "### BA\n",
    "\n",
    "The standard Bat algorithm was used with: $A=1.0$, $r_0=1.0$, $\\alpha = 0.97$, $\\gamma=0.1$,\n",
    "$Q_{min} = 0.0$, $Q_{max}=2.0$.\n",
    "\n",
    "## The Experiments\n",
    "\n",
    "We performed 25 independent runs for each algorithm on 10, 20, 30, 50 and 100 dimensional problems,\n",
    "logging the best, worst and mean fitness values, along with the standard deviation.\n",
    "The stopping condition was set as  reaching $1000 \\times D$, where $D$ is the dimension of the problem to be optimized."
   ]
  },
  {
   "cell_type": "code",
   "execution_count": 1,
   "outputs": [],
   "source": [
    "import pandas as pd\n",
    "\n",
    "df_10d = pd.read_pickle('results/10d.pkl')\n",
    "df_20d = pd.read_pickle('results/20d.pkl')\n",
    "df_30d = pd.read_pickle('results/30d.pkl')\n",
    "# df_50d = pd.read_pickle('results/50d.pkl')\n",
    "# df_100d = pd.read_pickle('results/100d.pkl')"
   ],
   "metadata": {
    "collapsed": false,
    "pycharm": {
     "name": "#%%\n"
    }
   }
  },
  {
   "cell_type": "markdown",
   "source": [
    "#### Results on 10D functions\n"
   ],
   "metadata": {
    "collapsed": false
   }
  },
  {
   "cell_type": "code",
   "execution_count": 2,
   "metadata": {
    "pycharm": {
     "name": "#%%\n"
    }
   },
   "outputs": [
    {
     "data": {
      "text/plain": "                         BFO             DE        WVCPSO             BA\nFunction                                                                \nsphere      Min     0.011430  1.787406e-121  0.000000e+00  2.949634e-267\n            Max     0.040380  4.449082e-119  0.000000e+00  8.100743e-267\n            Avg     0.028189  9.307530e-120  0.000000e+00  5.697310e-267\n            Std     0.006727  1.063576e-119  0.000000e+00   0.000000e+00\nrosenbrock  Min     6.706220   0.000000e+00  1.135590e-28   2.784124e-03\n            Max    10.881655   0.000000e+00  3.986579e+00   4.518783e+00\n            Avg     8.989356   0.000000e+00  3.189263e-01   8.116096e-01\n            Std     1.088407   0.000000e+00  1.081532e+00   1.513704e+00\nrastrigin   Min    14.321996   0.000000e+00  9.949591e-01   2.188906e+01\n            Max    25.404933   6.866812e+00  1.492437e+01   6.765687e+01\n            Avg    21.068551   5.532610e-01  5.611567e+00   4.716086e+01\n            Std     2.506990   1.391548e+00  2.976638e+00   1.230205e+01\ngriewank    Min     6.929093   0.000000e+00  4.892705e+01   3.965142e+01\n            Max    27.606559   3.509510e-01  1.360451e+02   1.109822e+02\n            Avg    16.400214   5.009974e-02  9.784430e+01   8.049837e+01\n            Std     4.943621   7.543141e-02  1.923530e+01   1.738343e+01\nackley      Min     0.315086   4.440892e-16  3.996803e-15   1.643869e+01\n            Max     0.632885   3.996803e-15  7.549517e-15   1.922411e+01\n            Avg     0.492544   3.854694e-15  4.707346e-15   1.806720e+01\n            Std     0.072206   6.961869e-16  1.421085e-15   6.311809e-01\nschwefel    Min   356.845978   1.272757e-04  1.391472e+03   1.164668e+03\n            Max  1370.923459   1.184385e+02  2.381027e+03   2.422338e+03\n            Avg   983.899647   2.368779e+01  1.922360e+03   1.915500e+03\n            Std   237.829111   4.737533e+01  2.245709e+02   3.670434e+02\nalpine1     Min     0.322968   1.665335e-16  5.551115e-17   2.220446e-16\n            Max     0.577208   8.202343e-02  1.165734e-15   3.647831e+00\n            Avg     0.464347   1.966461e-02  3.264056e-16   2.357792e+00\n            Std     0.055950   2.521012e-02  1.969324e-16   1.087718e+00\nwhitley     Min    42.980571   9.864672e-01  1.865952e+01   1.860509e+01\n            Max    64.009189   3.751209e+01  4.609499e+01   6.775818e+01\n            Avg    58.657128   1.186056e+01  3.201165e+01   4.496446e+01\n            Std     4.562656   1.250305e+01  7.732711e+00   1.304415e+01\ncsendes     Min   -16.223616  -1.682942e+01 -1.682942e+01  -1.346436e+01\n            Max   -14.369593  -1.682942e+01 -1.514689e+01  -6.733007e+00\n            Avg   -15.013370  -1.682942e+01 -1.676212e+01  -1.124282e+01\n            Std     0.495922   0.000000e+00  3.297070e-01   1.697497e+00\ndixon_price Min     0.037164   1.666101e-67  0.000000e+00   0.000000e+00\n            Max     0.219952   1.112831e-42  1.848893e-31   2.057020e+00\n            Avg     0.127235   4.455475e-44  1.232595e-32   8.228151e-02\n            Std     0.047624   2.180611e-43  3.945267e-32   4.030918e-01",
      "text/html": "<div>\n<style scoped>\n    .dataframe tbody tr th:only-of-type {\n        vertical-align: middle;\n    }\n\n    .dataframe tbody tr th {\n        vertical-align: top;\n    }\n\n    .dataframe thead th {\n        text-align: right;\n    }\n</style>\n<table border=\"1\" class=\"dataframe\">\n  <thead>\n    <tr style=\"text-align: right;\">\n      <th></th>\n      <th></th>\n      <th>BFO</th>\n      <th>DE</th>\n      <th>WVCPSO</th>\n      <th>BA</th>\n    </tr>\n    <tr>\n      <th>Function</th>\n      <th></th>\n      <th></th>\n      <th></th>\n      <th></th>\n      <th></th>\n    </tr>\n  </thead>\n  <tbody>\n    <tr>\n      <th rowspan=\"4\" valign=\"top\">sphere</th>\n      <th>Min</th>\n      <td>0.011430</td>\n      <td>1.787406e-121</td>\n      <td>0.000000e+00</td>\n      <td>2.949634e-267</td>\n    </tr>\n    <tr>\n      <th>Max</th>\n      <td>0.040380</td>\n      <td>4.449082e-119</td>\n      <td>0.000000e+00</td>\n      <td>8.100743e-267</td>\n    </tr>\n    <tr>\n      <th>Avg</th>\n      <td>0.028189</td>\n      <td>9.307530e-120</td>\n      <td>0.000000e+00</td>\n      <td>5.697310e-267</td>\n    </tr>\n    <tr>\n      <th>Std</th>\n      <td>0.006727</td>\n      <td>1.063576e-119</td>\n      <td>0.000000e+00</td>\n      <td>0.000000e+00</td>\n    </tr>\n    <tr>\n      <th rowspan=\"4\" valign=\"top\">rosenbrock</th>\n      <th>Min</th>\n      <td>6.706220</td>\n      <td>0.000000e+00</td>\n      <td>1.135590e-28</td>\n      <td>2.784124e-03</td>\n    </tr>\n    <tr>\n      <th>Max</th>\n      <td>10.881655</td>\n      <td>0.000000e+00</td>\n      <td>3.986579e+00</td>\n      <td>4.518783e+00</td>\n    </tr>\n    <tr>\n      <th>Avg</th>\n      <td>8.989356</td>\n      <td>0.000000e+00</td>\n      <td>3.189263e-01</td>\n      <td>8.116096e-01</td>\n    </tr>\n    <tr>\n      <th>Std</th>\n      <td>1.088407</td>\n      <td>0.000000e+00</td>\n      <td>1.081532e+00</td>\n      <td>1.513704e+00</td>\n    </tr>\n    <tr>\n      <th rowspan=\"4\" valign=\"top\">rastrigin</th>\n      <th>Min</th>\n      <td>14.321996</td>\n      <td>0.000000e+00</td>\n      <td>9.949591e-01</td>\n      <td>2.188906e+01</td>\n    </tr>\n    <tr>\n      <th>Max</th>\n      <td>25.404933</td>\n      <td>6.866812e+00</td>\n      <td>1.492437e+01</td>\n      <td>6.765687e+01</td>\n    </tr>\n    <tr>\n      <th>Avg</th>\n      <td>21.068551</td>\n      <td>5.532610e-01</td>\n      <td>5.611567e+00</td>\n      <td>4.716086e+01</td>\n    </tr>\n    <tr>\n      <th>Std</th>\n      <td>2.506990</td>\n      <td>1.391548e+00</td>\n      <td>2.976638e+00</td>\n      <td>1.230205e+01</td>\n    </tr>\n    <tr>\n      <th rowspan=\"4\" valign=\"top\">griewank</th>\n      <th>Min</th>\n      <td>6.929093</td>\n      <td>0.000000e+00</td>\n      <td>4.892705e+01</td>\n      <td>3.965142e+01</td>\n    </tr>\n    <tr>\n      <th>Max</th>\n      <td>27.606559</td>\n      <td>3.509510e-01</td>\n      <td>1.360451e+02</td>\n      <td>1.109822e+02</td>\n    </tr>\n    <tr>\n      <th>Avg</th>\n      <td>16.400214</td>\n      <td>5.009974e-02</td>\n      <td>9.784430e+01</td>\n      <td>8.049837e+01</td>\n    </tr>\n    <tr>\n      <th>Std</th>\n      <td>4.943621</td>\n      <td>7.543141e-02</td>\n      <td>1.923530e+01</td>\n      <td>1.738343e+01</td>\n    </tr>\n    <tr>\n      <th rowspan=\"4\" valign=\"top\">ackley</th>\n      <th>Min</th>\n      <td>0.315086</td>\n      <td>4.440892e-16</td>\n      <td>3.996803e-15</td>\n      <td>1.643869e+01</td>\n    </tr>\n    <tr>\n      <th>Max</th>\n      <td>0.632885</td>\n      <td>3.996803e-15</td>\n      <td>7.549517e-15</td>\n      <td>1.922411e+01</td>\n    </tr>\n    <tr>\n      <th>Avg</th>\n      <td>0.492544</td>\n      <td>3.854694e-15</td>\n      <td>4.707346e-15</td>\n      <td>1.806720e+01</td>\n    </tr>\n    <tr>\n      <th>Std</th>\n      <td>0.072206</td>\n      <td>6.961869e-16</td>\n      <td>1.421085e-15</td>\n      <td>6.311809e-01</td>\n    </tr>\n    <tr>\n      <th rowspan=\"4\" valign=\"top\">schwefel</th>\n      <th>Min</th>\n      <td>356.845978</td>\n      <td>1.272757e-04</td>\n      <td>1.391472e+03</td>\n      <td>1.164668e+03</td>\n    </tr>\n    <tr>\n      <th>Max</th>\n      <td>1370.923459</td>\n      <td>1.184385e+02</td>\n      <td>2.381027e+03</td>\n      <td>2.422338e+03</td>\n    </tr>\n    <tr>\n      <th>Avg</th>\n      <td>983.899647</td>\n      <td>2.368779e+01</td>\n      <td>1.922360e+03</td>\n      <td>1.915500e+03</td>\n    </tr>\n    <tr>\n      <th>Std</th>\n      <td>237.829111</td>\n      <td>4.737533e+01</td>\n      <td>2.245709e+02</td>\n      <td>3.670434e+02</td>\n    </tr>\n    <tr>\n      <th rowspan=\"4\" valign=\"top\">alpine1</th>\n      <th>Min</th>\n      <td>0.322968</td>\n      <td>1.665335e-16</td>\n      <td>5.551115e-17</td>\n      <td>2.220446e-16</td>\n    </tr>\n    <tr>\n      <th>Max</th>\n      <td>0.577208</td>\n      <td>8.202343e-02</td>\n      <td>1.165734e-15</td>\n      <td>3.647831e+00</td>\n    </tr>\n    <tr>\n      <th>Avg</th>\n      <td>0.464347</td>\n      <td>1.966461e-02</td>\n      <td>3.264056e-16</td>\n      <td>2.357792e+00</td>\n    </tr>\n    <tr>\n      <th>Std</th>\n      <td>0.055950</td>\n      <td>2.521012e-02</td>\n      <td>1.969324e-16</td>\n      <td>1.087718e+00</td>\n    </tr>\n    <tr>\n      <th rowspan=\"4\" valign=\"top\">whitley</th>\n      <th>Min</th>\n      <td>42.980571</td>\n      <td>9.864672e-01</td>\n      <td>1.865952e+01</td>\n      <td>1.860509e+01</td>\n    </tr>\n    <tr>\n      <th>Max</th>\n      <td>64.009189</td>\n      <td>3.751209e+01</td>\n      <td>4.609499e+01</td>\n      <td>6.775818e+01</td>\n    </tr>\n    <tr>\n      <th>Avg</th>\n      <td>58.657128</td>\n      <td>1.186056e+01</td>\n      <td>3.201165e+01</td>\n      <td>4.496446e+01</td>\n    </tr>\n    <tr>\n      <th>Std</th>\n      <td>4.562656</td>\n      <td>1.250305e+01</td>\n      <td>7.732711e+00</td>\n      <td>1.304415e+01</td>\n    </tr>\n    <tr>\n      <th rowspan=\"4\" valign=\"top\">csendes</th>\n      <th>Min</th>\n      <td>-16.223616</td>\n      <td>-1.682942e+01</td>\n      <td>-1.682942e+01</td>\n      <td>-1.346436e+01</td>\n    </tr>\n    <tr>\n      <th>Max</th>\n      <td>-14.369593</td>\n      <td>-1.682942e+01</td>\n      <td>-1.514689e+01</td>\n      <td>-6.733007e+00</td>\n    </tr>\n    <tr>\n      <th>Avg</th>\n      <td>-15.013370</td>\n      <td>-1.682942e+01</td>\n      <td>-1.676212e+01</td>\n      <td>-1.124282e+01</td>\n    </tr>\n    <tr>\n      <th>Std</th>\n      <td>0.495922</td>\n      <td>0.000000e+00</td>\n      <td>3.297070e-01</td>\n      <td>1.697497e+00</td>\n    </tr>\n    <tr>\n      <th rowspan=\"4\" valign=\"top\">dixon_price</th>\n      <th>Min</th>\n      <td>0.037164</td>\n      <td>1.666101e-67</td>\n      <td>0.000000e+00</td>\n      <td>0.000000e+00</td>\n    </tr>\n    <tr>\n      <th>Max</th>\n      <td>0.219952</td>\n      <td>1.112831e-42</td>\n      <td>1.848893e-31</td>\n      <td>2.057020e+00</td>\n    </tr>\n    <tr>\n      <th>Avg</th>\n      <td>0.127235</td>\n      <td>4.455475e-44</td>\n      <td>1.232595e-32</td>\n      <td>8.228151e-02</td>\n    </tr>\n    <tr>\n      <th>Std</th>\n      <td>0.047624</td>\n      <td>2.180611e-43</td>\n      <td>3.945267e-32</td>\n      <td>4.030918e-01</td>\n    </tr>\n  </tbody>\n</table>\n</div>"
     },
     "execution_count": 2,
     "metadata": {},
     "output_type": "execute_result"
    }
   ],
   "source": [
    "df_10d"
   ]
  },
  {
   "cell_type": "markdown",
   "metadata": {},
   "source": [
    "#### Results on 20D functions\n"
   ]
  },
  {
   "cell_type": "code",
   "execution_count": 3,
   "metadata": {
    "pycharm": {
     "name": "#%%\n"
    }
   },
   "outputs": [
    {
     "data": {
      "text/plain": "                         BFO            DE        WVCPSO           BA\nFunction                                                             \nsphere      Min     0.167729  2.449490e-39  0.000000e+00     0.000000\n            Max     0.268758  1.534855e-37  0.000000e+00     0.000000\n            Avg     0.224059  2.805988e-38  0.000000e+00     0.000000\n            Std     0.025934  3.301185e-38  0.000000e+00     0.000000\nrosenbrock  Min    36.282915  3.918191e-17  9.794201e-29     9.543396\n            Max    48.314153  5.613868e-16  3.986624e+00    18.889150\n            Avg    42.935933  1.996220e-16  6.378598e-01    12.219586\n            Std     3.432751  1.406209e-16  1.461520e+00     2.304423\nrastrigin   Min    75.343981  9.949591e-01  9.949591e+00    73.626733\n            Max    94.502021  9.351932e+00  3.979832e+01   172.126783\n            Avg    85.019148  4.314559e+00  2.204828e+01   116.330008\n            Std     5.009736  1.986805e+00  7.379770e+00    27.862769\ngriewank    Min     9.793395  0.000000e+00  2.055911e+02   243.043878\n            Max    68.109856  4.183879e-02  2.986116e+02   324.958439\n            Avg    41.337204  1.231274e-02  2.591092e+02   280.409446\n            Std    11.998912  1.111668e-02  2.233608e+01    24.662024\nackley      Min     0.989187  3.996803e-15  7.549517e-15    18.403539\n            Max    14.549617  7.549517e-15  2.699274e+00    19.473051\n            Avg     3.035068  4.423129e-15  1.104479e+00    18.805193\n            Std     2.905197  1.154495e-15  8.302304e-01     0.256185\nschwefel    Min  2034.958649  2.545513e-04  4.226020e+03  3719.846095\n            Max  2965.431990  1.070496e+03  5.128507e+03  5558.481172\n            Avg  2547.638837  4.150528e+02  4.834818e+03  4789.463222\n            Std   227.291400  2.535236e+02  2.222633e+02   478.126911\nalpine1     Min     1.671701  7.278430e-02  2.172177e-15     0.911958\n            Max     2.153632  8.174667e-01  5.889749e-05     8.207620\n            Avg     1.879623  2.461602e-01  2.964248e-06     6.558093\n            Std     0.104866  1.571291e-01  1.174156e-05     1.607055\nwhitley     Min   312.671366  1.632340e+02  1.033033e+02   132.796952\n            Max   341.527509  1.707799e+02  2.502578e+02   302.143923\n            Avg   331.248117  1.699684e+02  2.017134e+02   236.961728\n            Std     7.612536  1.969833e+00  3.322034e+01    39.266469\ncsendes     Min   -23.589523 -3.365884e+01 -3.365884e+01   -25.240026\n            Max   -20.847054 -3.365884e+01 -3.029296e+01   -15.565884\n            Avg   -22.183681 -3.365884e+01 -3.224542e+01   -19.435574\n            Std     0.809339  0.000000e+00  1.402201e+00     2.115267\ndixon_price Min     1.959118  4.380399e-28  0.000000e+00     0.000000\n            Max     3.441004  3.931414e-22  1.047706e-31     3.608421\n            Avg     2.698786  1.937344e-23  6.532754e-33     0.395804\n            Std     0.350329  7.681367e-23  2.309793e-32     0.881768",
      "text/html": "<div>\n<style scoped>\n    .dataframe tbody tr th:only-of-type {\n        vertical-align: middle;\n    }\n\n    .dataframe tbody tr th {\n        vertical-align: top;\n    }\n\n    .dataframe thead th {\n        text-align: right;\n    }\n</style>\n<table border=\"1\" class=\"dataframe\">\n  <thead>\n    <tr style=\"text-align: right;\">\n      <th></th>\n      <th></th>\n      <th>BFO</th>\n      <th>DE</th>\n      <th>WVCPSO</th>\n      <th>BA</th>\n    </tr>\n    <tr>\n      <th>Function</th>\n      <th></th>\n      <th></th>\n      <th></th>\n      <th></th>\n      <th></th>\n    </tr>\n  </thead>\n  <tbody>\n    <tr>\n      <th rowspan=\"4\" valign=\"top\">sphere</th>\n      <th>Min</th>\n      <td>0.167729</td>\n      <td>2.449490e-39</td>\n      <td>0.000000e+00</td>\n      <td>0.000000</td>\n    </tr>\n    <tr>\n      <th>Max</th>\n      <td>0.268758</td>\n      <td>1.534855e-37</td>\n      <td>0.000000e+00</td>\n      <td>0.000000</td>\n    </tr>\n    <tr>\n      <th>Avg</th>\n      <td>0.224059</td>\n      <td>2.805988e-38</td>\n      <td>0.000000e+00</td>\n      <td>0.000000</td>\n    </tr>\n    <tr>\n      <th>Std</th>\n      <td>0.025934</td>\n      <td>3.301185e-38</td>\n      <td>0.000000e+00</td>\n      <td>0.000000</td>\n    </tr>\n    <tr>\n      <th rowspan=\"4\" valign=\"top\">rosenbrock</th>\n      <th>Min</th>\n      <td>36.282915</td>\n      <td>3.918191e-17</td>\n      <td>9.794201e-29</td>\n      <td>9.543396</td>\n    </tr>\n    <tr>\n      <th>Max</th>\n      <td>48.314153</td>\n      <td>5.613868e-16</td>\n      <td>3.986624e+00</td>\n      <td>18.889150</td>\n    </tr>\n    <tr>\n      <th>Avg</th>\n      <td>42.935933</td>\n      <td>1.996220e-16</td>\n      <td>6.378598e-01</td>\n      <td>12.219586</td>\n    </tr>\n    <tr>\n      <th>Std</th>\n      <td>3.432751</td>\n      <td>1.406209e-16</td>\n      <td>1.461520e+00</td>\n      <td>2.304423</td>\n    </tr>\n    <tr>\n      <th rowspan=\"4\" valign=\"top\">rastrigin</th>\n      <th>Min</th>\n      <td>75.343981</td>\n      <td>9.949591e-01</td>\n      <td>9.949591e+00</td>\n      <td>73.626733</td>\n    </tr>\n    <tr>\n      <th>Max</th>\n      <td>94.502021</td>\n      <td>9.351932e+00</td>\n      <td>3.979832e+01</td>\n      <td>172.126783</td>\n    </tr>\n    <tr>\n      <th>Avg</th>\n      <td>85.019148</td>\n      <td>4.314559e+00</td>\n      <td>2.204828e+01</td>\n      <td>116.330008</td>\n    </tr>\n    <tr>\n      <th>Std</th>\n      <td>5.009736</td>\n      <td>1.986805e+00</td>\n      <td>7.379770e+00</td>\n      <td>27.862769</td>\n    </tr>\n    <tr>\n      <th rowspan=\"4\" valign=\"top\">griewank</th>\n      <th>Min</th>\n      <td>9.793395</td>\n      <td>0.000000e+00</td>\n      <td>2.055911e+02</td>\n      <td>243.043878</td>\n    </tr>\n    <tr>\n      <th>Max</th>\n      <td>68.109856</td>\n      <td>4.183879e-02</td>\n      <td>2.986116e+02</td>\n      <td>324.958439</td>\n    </tr>\n    <tr>\n      <th>Avg</th>\n      <td>41.337204</td>\n      <td>1.231274e-02</td>\n      <td>2.591092e+02</td>\n      <td>280.409446</td>\n    </tr>\n    <tr>\n      <th>Std</th>\n      <td>11.998912</td>\n      <td>1.111668e-02</td>\n      <td>2.233608e+01</td>\n      <td>24.662024</td>\n    </tr>\n    <tr>\n      <th rowspan=\"4\" valign=\"top\">ackley</th>\n      <th>Min</th>\n      <td>0.989187</td>\n      <td>3.996803e-15</td>\n      <td>7.549517e-15</td>\n      <td>18.403539</td>\n    </tr>\n    <tr>\n      <th>Max</th>\n      <td>14.549617</td>\n      <td>7.549517e-15</td>\n      <td>2.699274e+00</td>\n      <td>19.473051</td>\n    </tr>\n    <tr>\n      <th>Avg</th>\n      <td>3.035068</td>\n      <td>4.423129e-15</td>\n      <td>1.104479e+00</td>\n      <td>18.805193</td>\n    </tr>\n    <tr>\n      <th>Std</th>\n      <td>2.905197</td>\n      <td>1.154495e-15</td>\n      <td>8.302304e-01</td>\n      <td>0.256185</td>\n    </tr>\n    <tr>\n      <th rowspan=\"4\" valign=\"top\">schwefel</th>\n      <th>Min</th>\n      <td>2034.958649</td>\n      <td>2.545513e-04</td>\n      <td>4.226020e+03</td>\n      <td>3719.846095</td>\n    </tr>\n    <tr>\n      <th>Max</th>\n      <td>2965.431990</td>\n      <td>1.070496e+03</td>\n      <td>5.128507e+03</td>\n      <td>5558.481172</td>\n    </tr>\n    <tr>\n      <th>Avg</th>\n      <td>2547.638837</td>\n      <td>4.150528e+02</td>\n      <td>4.834818e+03</td>\n      <td>4789.463222</td>\n    </tr>\n    <tr>\n      <th>Std</th>\n      <td>227.291400</td>\n      <td>2.535236e+02</td>\n      <td>2.222633e+02</td>\n      <td>478.126911</td>\n    </tr>\n    <tr>\n      <th rowspan=\"4\" valign=\"top\">alpine1</th>\n      <th>Min</th>\n      <td>1.671701</td>\n      <td>7.278430e-02</td>\n      <td>2.172177e-15</td>\n      <td>0.911958</td>\n    </tr>\n    <tr>\n      <th>Max</th>\n      <td>2.153632</td>\n      <td>8.174667e-01</td>\n      <td>5.889749e-05</td>\n      <td>8.207620</td>\n    </tr>\n    <tr>\n      <th>Avg</th>\n      <td>1.879623</td>\n      <td>2.461602e-01</td>\n      <td>2.964248e-06</td>\n      <td>6.558093</td>\n    </tr>\n    <tr>\n      <th>Std</th>\n      <td>0.104866</td>\n      <td>1.571291e-01</td>\n      <td>1.174156e-05</td>\n      <td>1.607055</td>\n    </tr>\n    <tr>\n      <th rowspan=\"4\" valign=\"top\">whitley</th>\n      <th>Min</th>\n      <td>312.671366</td>\n      <td>1.632340e+02</td>\n      <td>1.033033e+02</td>\n      <td>132.796952</td>\n    </tr>\n    <tr>\n      <th>Max</th>\n      <td>341.527509</td>\n      <td>1.707799e+02</td>\n      <td>2.502578e+02</td>\n      <td>302.143923</td>\n    </tr>\n    <tr>\n      <th>Avg</th>\n      <td>331.248117</td>\n      <td>1.699684e+02</td>\n      <td>2.017134e+02</td>\n      <td>236.961728</td>\n    </tr>\n    <tr>\n      <th>Std</th>\n      <td>7.612536</td>\n      <td>1.969833e+00</td>\n      <td>3.322034e+01</td>\n      <td>39.266469</td>\n    </tr>\n    <tr>\n      <th rowspan=\"4\" valign=\"top\">csendes</th>\n      <th>Min</th>\n      <td>-23.589523</td>\n      <td>-3.365884e+01</td>\n      <td>-3.365884e+01</td>\n      <td>-25.240026</td>\n    </tr>\n    <tr>\n      <th>Max</th>\n      <td>-20.847054</td>\n      <td>-3.365884e+01</td>\n      <td>-3.029296e+01</td>\n      <td>-15.565884</td>\n    </tr>\n    <tr>\n      <th>Avg</th>\n      <td>-22.183681</td>\n      <td>-3.365884e+01</td>\n      <td>-3.224542e+01</td>\n      <td>-19.435574</td>\n    </tr>\n    <tr>\n      <th>Std</th>\n      <td>0.809339</td>\n      <td>0.000000e+00</td>\n      <td>1.402201e+00</td>\n      <td>2.115267</td>\n    </tr>\n    <tr>\n      <th rowspan=\"4\" valign=\"top\">dixon_price</th>\n      <th>Min</th>\n      <td>1.959118</td>\n      <td>4.380399e-28</td>\n      <td>0.000000e+00</td>\n      <td>0.000000</td>\n    </tr>\n    <tr>\n      <th>Max</th>\n      <td>3.441004</td>\n      <td>3.931414e-22</td>\n      <td>1.047706e-31</td>\n      <td>3.608421</td>\n    </tr>\n    <tr>\n      <th>Avg</th>\n      <td>2.698786</td>\n      <td>1.937344e-23</td>\n      <td>6.532754e-33</td>\n      <td>0.395804</td>\n    </tr>\n    <tr>\n      <th>Std</th>\n      <td>0.350329</td>\n      <td>7.681367e-23</td>\n      <td>2.309793e-32</td>\n      <td>0.881768</td>\n    </tr>\n  </tbody>\n</table>\n</div>"
     },
     "execution_count": 3,
     "metadata": {},
     "output_type": "execute_result"
    }
   ],
   "source": [
    "df_20d"
   ]
  },
  {
   "cell_type": "markdown",
   "metadata": {},
   "source": [
    "#### Results on 30D functions"
   ]
  },
  {
   "cell_type": "code",
   "execution_count": 4,
   "metadata": {
    "pycharm": {
     "name": "#%%\n"
    }
   },
   "outputs": [
    {
     "data": {
      "text/plain": "                         BFO            DE         WVCPSO           BA\nFunction                                                              \nsphere      Min     0.465907  1.697373e-23   0.000000e+00     0.000000\n            Max     0.618444  7.599755e-21  1.185758e-322     0.000000\n            Avg     0.550655  6.012078e-22  1.482197e-323     0.000000\n            Std     0.038703  1.478335e-21   0.000000e+00     0.000000\nrosenbrock  Min    73.057881  3.326758e-08   0.000000e+00    20.004243\n            Max   103.806831  7.850935e-07   3.986624e+00    29.334455\n            Avg    90.143004  2.656317e-07   3.189299e-01    24.117237\n            Std     7.161008  2.178017e-07   1.081544e+00     2.533412\nrastrigin   Min   137.828158  5.416934e+00   1.890422e+01   138.298641\n            Max   177.608557  2.120373e+01   5.571764e+01   270.626980\n            Avg   160.745673  1.103761e+01   3.311221e+01   190.513675\n            Std     9.960445  3.904954e+00   1.061026e+01    33.731173\ngriewank    Min    58.800408  0.000000e+00   3.603490e+02   332.347964\n            Max   131.301876  0.000000e+00   4.961169e+02   569.767198\n            Avg    90.299743  0.000000e+00   4.373304e+02   484.933940\n            Std    18.636584  0.000000e+00   3.960331e+01    48.173272\nackley      Min     1.711999  3.796474e-11   1.777997e+00    18.631521\n            Max    17.656505  4.855711e-10   5.286969e+00    19.337532\n            Avg    11.241526  1.297322e-10   3.482332e+00    19.057348\n            Std     5.726708  1.091505e-10   8.823741e-01     0.177710\nschwefel    Min  3503.897610  5.403945e+02   7.668149e+03  6220.452361\n            Max  4896.420512  1.943940e+03   8.917906e+03  8650.162027\n            Avg  4187.074724  1.193120e+03   8.212867e+03  7638.735701\n            Std   386.294081  2.609421e+02   3.101655e+02   711.183869\nalpine1     Min     3.112008  2.086243e-01   1.756925e-10     8.207620\n            Max     4.110062  1.319970e+00   1.143519e+00    12.813437\n            Avg     3.626037  7.530662e-01   9.001113e-02    11.597405\n            Std     0.255645  3.174622e-01   2.557812e-01     1.084107\nwhitley     Min   813.461303  3.752327e+02   2.586755e+02   441.049618\n            Max   857.967339  3.922904e+02   6.623852e+02   707.755573\n            Avg   835.048603  3.853437e+02   5.624665e+02   574.512111\n            Std     9.238856  3.899155e+00   7.880724e+01    60.428674\ncsendes     Min   -31.441130 -5.048826e+01  -5.048826e+01   -31.969940\n            Max   -26.421618 -5.048826e+01  -4.207396e+01   -21.554759\n            Avg   -27.909996 -5.048826e+01  -4.732458e+01   -26.776012\n            Std     1.030943  0.000000e+00   2.620914e+00     3.067470\ndixon_price Min     8.065745  2.153532e-19   0.000000e+00     0.000000\n            Max    12.362684  4.515192e-16   2.403561e-31     3.131656\n            Avg    10.561984  7.039719e-17   2.662406e-32     0.289822\n            Std     1.159805  1.078179e-16   6.020745e-32     0.784491",
      "text/html": "<div>\n<style scoped>\n    .dataframe tbody tr th:only-of-type {\n        vertical-align: middle;\n    }\n\n    .dataframe tbody tr th {\n        vertical-align: top;\n    }\n\n    .dataframe thead th {\n        text-align: right;\n    }\n</style>\n<table border=\"1\" class=\"dataframe\">\n  <thead>\n    <tr style=\"text-align: right;\">\n      <th></th>\n      <th></th>\n      <th>BFO</th>\n      <th>DE</th>\n      <th>WVCPSO</th>\n      <th>BA</th>\n    </tr>\n    <tr>\n      <th>Function</th>\n      <th></th>\n      <th></th>\n      <th></th>\n      <th></th>\n      <th></th>\n    </tr>\n  </thead>\n  <tbody>\n    <tr>\n      <th rowspan=\"4\" valign=\"top\">sphere</th>\n      <th>Min</th>\n      <td>0.465907</td>\n      <td>1.697373e-23</td>\n      <td>0.000000e+00</td>\n      <td>0.000000</td>\n    </tr>\n    <tr>\n      <th>Max</th>\n      <td>0.618444</td>\n      <td>7.599755e-21</td>\n      <td>1.185758e-322</td>\n      <td>0.000000</td>\n    </tr>\n    <tr>\n      <th>Avg</th>\n      <td>0.550655</td>\n      <td>6.012078e-22</td>\n      <td>1.482197e-323</td>\n      <td>0.000000</td>\n    </tr>\n    <tr>\n      <th>Std</th>\n      <td>0.038703</td>\n      <td>1.478335e-21</td>\n      <td>0.000000e+00</td>\n      <td>0.000000</td>\n    </tr>\n    <tr>\n      <th rowspan=\"4\" valign=\"top\">rosenbrock</th>\n      <th>Min</th>\n      <td>73.057881</td>\n      <td>3.326758e-08</td>\n      <td>0.000000e+00</td>\n      <td>20.004243</td>\n    </tr>\n    <tr>\n      <th>Max</th>\n      <td>103.806831</td>\n      <td>7.850935e-07</td>\n      <td>3.986624e+00</td>\n      <td>29.334455</td>\n    </tr>\n    <tr>\n      <th>Avg</th>\n      <td>90.143004</td>\n      <td>2.656317e-07</td>\n      <td>3.189299e-01</td>\n      <td>24.117237</td>\n    </tr>\n    <tr>\n      <th>Std</th>\n      <td>7.161008</td>\n      <td>2.178017e-07</td>\n      <td>1.081544e+00</td>\n      <td>2.533412</td>\n    </tr>\n    <tr>\n      <th rowspan=\"4\" valign=\"top\">rastrigin</th>\n      <th>Min</th>\n      <td>137.828158</td>\n      <td>5.416934e+00</td>\n      <td>1.890422e+01</td>\n      <td>138.298641</td>\n    </tr>\n    <tr>\n      <th>Max</th>\n      <td>177.608557</td>\n      <td>2.120373e+01</td>\n      <td>5.571764e+01</td>\n      <td>270.626980</td>\n    </tr>\n    <tr>\n      <th>Avg</th>\n      <td>160.745673</td>\n      <td>1.103761e+01</td>\n      <td>3.311221e+01</td>\n      <td>190.513675</td>\n    </tr>\n    <tr>\n      <th>Std</th>\n      <td>9.960445</td>\n      <td>3.904954e+00</td>\n      <td>1.061026e+01</td>\n      <td>33.731173</td>\n    </tr>\n    <tr>\n      <th rowspan=\"4\" valign=\"top\">griewank</th>\n      <th>Min</th>\n      <td>58.800408</td>\n      <td>0.000000e+00</td>\n      <td>3.603490e+02</td>\n      <td>332.347964</td>\n    </tr>\n    <tr>\n      <th>Max</th>\n      <td>131.301876</td>\n      <td>0.000000e+00</td>\n      <td>4.961169e+02</td>\n      <td>569.767198</td>\n    </tr>\n    <tr>\n      <th>Avg</th>\n      <td>90.299743</td>\n      <td>0.000000e+00</td>\n      <td>4.373304e+02</td>\n      <td>484.933940</td>\n    </tr>\n    <tr>\n      <th>Std</th>\n      <td>18.636584</td>\n      <td>0.000000e+00</td>\n      <td>3.960331e+01</td>\n      <td>48.173272</td>\n    </tr>\n    <tr>\n      <th rowspan=\"4\" valign=\"top\">ackley</th>\n      <th>Min</th>\n      <td>1.711999</td>\n      <td>3.796474e-11</td>\n      <td>1.777997e+00</td>\n      <td>18.631521</td>\n    </tr>\n    <tr>\n      <th>Max</th>\n      <td>17.656505</td>\n      <td>4.855711e-10</td>\n      <td>5.286969e+00</td>\n      <td>19.337532</td>\n    </tr>\n    <tr>\n      <th>Avg</th>\n      <td>11.241526</td>\n      <td>1.297322e-10</td>\n      <td>3.482332e+00</td>\n      <td>19.057348</td>\n    </tr>\n    <tr>\n      <th>Std</th>\n      <td>5.726708</td>\n      <td>1.091505e-10</td>\n      <td>8.823741e-01</td>\n      <td>0.177710</td>\n    </tr>\n    <tr>\n      <th rowspan=\"4\" valign=\"top\">schwefel</th>\n      <th>Min</th>\n      <td>3503.897610</td>\n      <td>5.403945e+02</td>\n      <td>7.668149e+03</td>\n      <td>6220.452361</td>\n    </tr>\n    <tr>\n      <th>Max</th>\n      <td>4896.420512</td>\n      <td>1.943940e+03</td>\n      <td>8.917906e+03</td>\n      <td>8650.162027</td>\n    </tr>\n    <tr>\n      <th>Avg</th>\n      <td>4187.074724</td>\n      <td>1.193120e+03</td>\n      <td>8.212867e+03</td>\n      <td>7638.735701</td>\n    </tr>\n    <tr>\n      <th>Std</th>\n      <td>386.294081</td>\n      <td>2.609421e+02</td>\n      <td>3.101655e+02</td>\n      <td>711.183869</td>\n    </tr>\n    <tr>\n      <th rowspan=\"4\" valign=\"top\">alpine1</th>\n      <th>Min</th>\n      <td>3.112008</td>\n      <td>2.086243e-01</td>\n      <td>1.756925e-10</td>\n      <td>8.207620</td>\n    </tr>\n    <tr>\n      <th>Max</th>\n      <td>4.110062</td>\n      <td>1.319970e+00</td>\n      <td>1.143519e+00</td>\n      <td>12.813437</td>\n    </tr>\n    <tr>\n      <th>Avg</th>\n      <td>3.626037</td>\n      <td>7.530662e-01</td>\n      <td>9.001113e-02</td>\n      <td>11.597405</td>\n    </tr>\n    <tr>\n      <th>Std</th>\n      <td>0.255645</td>\n      <td>3.174622e-01</td>\n      <td>2.557812e-01</td>\n      <td>1.084107</td>\n    </tr>\n    <tr>\n      <th rowspan=\"4\" valign=\"top\">whitley</th>\n      <th>Min</th>\n      <td>813.461303</td>\n      <td>3.752327e+02</td>\n      <td>2.586755e+02</td>\n      <td>441.049618</td>\n    </tr>\n    <tr>\n      <th>Max</th>\n      <td>857.967339</td>\n      <td>3.922904e+02</td>\n      <td>6.623852e+02</td>\n      <td>707.755573</td>\n    </tr>\n    <tr>\n      <th>Avg</th>\n      <td>835.048603</td>\n      <td>3.853437e+02</td>\n      <td>5.624665e+02</td>\n      <td>574.512111</td>\n    </tr>\n    <tr>\n      <th>Std</th>\n      <td>9.238856</td>\n      <td>3.899155e+00</td>\n      <td>7.880724e+01</td>\n      <td>60.428674</td>\n    </tr>\n    <tr>\n      <th rowspan=\"4\" valign=\"top\">csendes</th>\n      <th>Min</th>\n      <td>-31.441130</td>\n      <td>-5.048826e+01</td>\n      <td>-5.048826e+01</td>\n      <td>-31.969940</td>\n    </tr>\n    <tr>\n      <th>Max</th>\n      <td>-26.421618</td>\n      <td>-5.048826e+01</td>\n      <td>-4.207396e+01</td>\n      <td>-21.554759</td>\n    </tr>\n    <tr>\n      <th>Avg</th>\n      <td>-27.909996</td>\n      <td>-5.048826e+01</td>\n      <td>-4.732458e+01</td>\n      <td>-26.776012</td>\n    </tr>\n    <tr>\n      <th>Std</th>\n      <td>1.030943</td>\n      <td>0.000000e+00</td>\n      <td>2.620914e+00</td>\n      <td>3.067470</td>\n    </tr>\n    <tr>\n      <th rowspan=\"4\" valign=\"top\">dixon_price</th>\n      <th>Min</th>\n      <td>8.065745</td>\n      <td>2.153532e-19</td>\n      <td>0.000000e+00</td>\n      <td>0.000000</td>\n    </tr>\n    <tr>\n      <th>Max</th>\n      <td>12.362684</td>\n      <td>4.515192e-16</td>\n      <td>2.403561e-31</td>\n      <td>3.131656</td>\n    </tr>\n    <tr>\n      <th>Avg</th>\n      <td>10.561984</td>\n      <td>7.039719e-17</td>\n      <td>2.662406e-32</td>\n      <td>0.289822</td>\n    </tr>\n    <tr>\n      <th>Std</th>\n      <td>1.159805</td>\n      <td>1.078179e-16</td>\n      <td>6.020745e-32</td>\n      <td>0.784491</td>\n    </tr>\n  </tbody>\n</table>\n</div>"
     },
     "execution_count": 4,
     "metadata": {},
     "output_type": "execute_result"
    }
   ],
   "source": [
    "df_30d"
   ]
  },
  {
   "cell_type": "markdown",
   "metadata": {
    "pycharm": {
     "name": "#%% md\n"
    }
   },
   "source": [
    "#### Results on 50D functions"
   ]
  },
  {
   "cell_type": "code",
   "execution_count": 5,
   "metadata": {
    "pycharm": {
     "name": "#%%\n"
    }
   },
   "outputs": [],
   "source": [
    "# df_50d"
   ]
  },
  {
   "cell_type": "markdown",
   "metadata": {},
   "source": [
    "#### Results on 100D functions"
   ]
  },
  {
   "cell_type": "code",
   "execution_count": 6,
   "metadata": {
    "pycharm": {
     "name": "#%%\n"
    }
   },
   "outputs": [],
   "source": [
    "# df_100d\n"
   ]
  }
 ],
 "metadata": {
  "kernelspec": {
   "display_name": "Python 3 (ipykernel)",
   "language": "python",
   "name": "python3"
  },
  "language_info": {
   "codemirror_mode": {
    "name": "ipython",
    "version": 3
   },
   "file_extension": ".py",
   "mimetype": "text/x-python",
   "name": "python",
   "nbconvert_exporter": "python",
   "pygments_lexer": "ipython3",
   "version": "3.9.6"
  }
 },
 "nbformat": 4,
 "nbformat_minor": 1
}