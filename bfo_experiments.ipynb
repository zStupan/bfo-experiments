{
 "cells": [
  {
   "cell_type": "markdown",
   "metadata": {
    "pycharm": {
     "name": "#%% md\n"
    }
   },
   "source": [
    "# BFO Experiments\n",
    "\n",
    "In these experiments we compared the ***Bacterial Foraging Optimization***\n",
    "(BFO) algorithm, with 3 other popular nature-inspired algorithms:\n",
    "***Differential Evolution*** (DE)\n",
    "***Particle Swarm Optimization*** (PSO) and the ***Bat Algorithm*** (BA).\n",
    "Their performance was evaluated on 5 popular test functions.\n",
    "\n",
    "## Test Functions\n",
    "\n",
    "| Name | Function | Domain | Global optimum |\n",
    "| :- | :- | :- | :- |\n",
    "| Sphere | $$f_1(\\vec{x}) = \\sum_{i=1}^{D} x_i^2 $$ | $$[-5.12, 5.12]^D$$ | $$f_1(\\vec{0}) = 0$$ |\n",
    "| Rosenbrock | $$f_2(\\vec{x}) = \\sum_{i=1}^{D-1} (100 (x_{i+1} - x_i^2)^2 + (x_i - 1)^2) $$ | $$[-2.048, 2.048]^D$$ | $$f_1(\\vec{1}) = 0$$ |\n",
    "| Rastrigin | $$f_3(\\vec{x}) = 10D + \\sum_{i=1}^D \\left(x_i^2 -10\\cos(2\\pi x_i)\\right) $$ | $$[-5.12, 5.12]^D$$ | $$f_1(\\vec{0}) = 0$$ |\n",
    "| Griewank | $$f_4(\\vec{x}) = \\sum_{i=1}^D \\frac{x_i^2}{4000} - \\prod_{i=1}^D \\cos(\\frac{x_i}{\\sqrt{i}}) + 1 $$ | $$[-600, 600]^D$$ | $$f_1(\\vec{0}) = 0$$ |\n",
    "| Ackley | $$f_5(\\vec{x}) = -a\\;\\exp\\left(-b \\sqrt{\\frac{1}{D} \\sum_{i=1}^D x_i^2}\\right) - \\exp\\left(\\frac{1}{D} \\sum_{i=1}^D cos(c\\;x_i)\\right) + a + \\exp(1) $$ | $$[-32.768, 32.768]^D$$ | $$f_1(\\vec{0}) = 0$$ |\n",
    "\n",
    "## Parameter Settings\n",
    "\n",
    "We selected the population size of 100 for all algorithms. The algorithm specific\n",
    "parameters are described below.\n",
    "\n",
    "### BFO\n",
    "\n",
    "We used the classic version of BFO as presented by K. M. Passino,\n",
    "with the following parameters:\n",
    "\n",
    "$N_c = 100$<br>\n",
    "$N_s = 4$<br>\n",
    "$N_{re} = 5$<br>\n",
    "$N_{ed} = 2$<br>\n",
    "$P_{ed} = 0.25$<br>\n",
    "$C(i) = 0.1$<br>\n",
    "$d_{attract} = 0.1$<br>\n",
    "$w_{attract} = 0.2$<br>\n",
    "$h_{repellent} = d_{attract}$<br>\n",
    "$w_{repellent} = 10.0$<br>\n",
    "\n",
    "### DE\n",
    "\n",
    "We used the DE/rand/1/bin variant with $CR=0.9$ and $F=0.8$.\n",
    "\n",
    "### PSO\n",
    "\n",
    "We used the global best PSO with velocity clamping and a constant inertia\n",
    "weight. Parameters: $w=0.9$, $c1=0.5$, $c2=0.3$, $v_{min} = -1.0$, $v_{max}=1.0$.\n",
    "\n",
    "### BA\n",
    "\n",
    "The standard Bat algorithm was used with: $A=1.0$, $r_0=1.0$, $\\alpha = 0.97$, $\\gamma=0.1$,\n",
    "$Q_{min} = 0.0$, $Q_{max}=2.0$.\n",
    "\n",
    "## The Experiments\n",
    "\n",
    "We performed 25 independent runs for each algorithm on 2, 10, 20 and 30 dimensional problems,\n",
    "logging the best, worst and mean fitness values, along with the standard deviation.\n"
   ]
  },
  {
   "cell_type": "code",
   "execution_count": 2,
   "metadata": {},
   "outputs": [],
   "source": [
    "import bfo_experiments as experiments\n",
    "from niapy.algorithms.basic import (\n",
    "    BacterialForagingOptimization,\n",
    "    DifferentialEvolution,\n",
    "    ParticleSwarmAlgorithm,\n",
    "    BatAlgorithm,\n",
    ")\n",
    "from niapy.algorithms.basic.de import cross_rand1\n",
    "\n",
    "problems = (\n",
    "    {'problem': 'sphere', 'lower': -5.12, 'upper': 5.12},\n",
    "    {'problem': 'rastrigin', 'lower': -2.048, 'upper': 2.048},\n",
    "    {'problem': 'rosenbrock', 'lower': -5.12, 'upper': 5.12},\n",
    "    {'problem': 'griewank', 'lower': -600, 'upper': 600},\n",
    "    {'problem': 'ackley', 'lower': -32.768, 'upper': 32.768},\n",
    ")\n",
    "\n",
    "algorithms = (\n",
    "    BacterialForagingOptimization(population_size=100,\n",
    "                                  n_chemotactic=100,\n",
    "                                  n_reproduction=5,\n",
    "                                  n_elimination=2,\n",
    "                                  seed=12345),\n",
    "    DifferentialEvolution(population_size=100,\n",
    "                          strategy=cross_rand1,\n",
    "                          differential_weight=0.8,\n",
    "                          crossover_probability=0.9,\n",
    "                          seed=12345),\n",
    "    ParticleSwarmAlgorithm(population_size=100,\n",
    "                           w=0.9,\n",
    "                           c1=0.5,\n",
    "                           c2=0.3,\n",
    "                           min_velocity=-1,\n",
    "                           max_velocity=1,\n",
    "                           seed=12345),\n",
    "    BatAlgorithm(population_size=100, seed=12345)\n",
    ")\n"
   ]
  },
  {
   "cell_type": "code",
   "execution_count": 3,
   "metadata": {
    "pycharm": {
     "name": "#%%\n"
    }
   },
   "outputs": [],
   "source": [
    "df_2d = experiments.run(algorithms, problems, runs=25, dim=2, max_iters=1000)\n",
    "df_10d = experiments.run(algorithms, problems, runs=25, dim=10, max_iters=1000)\n",
    "df_20d = experiments.run(algorithms, problems, runs=25, dim=20, max_iters=1000)\n",
    "df_30d = experiments.run(algorithms, problems, runs=25, dim=30, max_iters=1000)"
   ]
  },
  {
   "cell_type": "markdown",
   "metadata": {
    "pycharm": {
     "name": "#%% md\n"
    }
   },
   "source": [
    "#### Results on 2D functions"
   ]
  },
  {
   "cell_type": "code",
   "execution_count": 4,
   "metadata": {
    "pycharm": {
     "name": "#%%\n"
    }
   },
   "outputs": [
    {
     "data": {
      "text/plain": "                         BFO             DE           PSO            BA\nFunction                                                               \nsphere     Min  4.009240e-08  4.485320e-162  2.833779e-50  7.717699e-34\n           Max  2.972042e-06  4.189761e-157  2.305317e-44  1.788926e-31\n           Avg  1.092266e-06  4.110203e-158  1.881240e-45  4.761128e-32\n           Std  8.434095e-07  9.396564e-158  4.811346e-45  4.761514e-32\nrastrigin  Min  1.830779e-04   0.000000e+00  0.000000e+00  0.000000e+00\n           Max  9.735960e-03   0.000000e+00  0.000000e+00  8.954601e+00\n           Avg  1.852419e-03   0.000000e+00  0.000000e+00  2.109311e+00\n           Std  1.992430e-03   0.000000e+00  0.000000e+00  2.093101e+00\nrosenbrock Min  2.374664e-06   0.000000e+00  0.000000e+00  0.000000e+00\n           Max  1.189493e-04   0.000000e+00  0.000000e+00  1.491440e-30\n           Avg  3.714221e-05   0.000000e+00  0.000000e+00  3.456197e-31\n           Std  3.198339e-05   0.000000e+00  0.000000e+00  4.533602e-31\ngriewank   Min  2.959155e-02   0.000000e+00  4.683522e-02  2.958416e-02\n           Max  1.509081e+00   7.396040e-03  8.355980e+00  2.248987e+00\n           Avg  8.471907e-01   8.875248e-04  1.626426e+00  8.611898e-01\n           Std  4.790228e-01   2.403429e-03  1.661912e+00  7.043709e-01\nackley     Min  6.359676e-04   4.440892e-16  4.440892e-16  4.440892e-16\n           Max  6.351869e-03   4.440892e-16  4.440892e-16  1.121755e+01\n           Avg  3.547066e-03   4.440892e-16  4.440892e-16  6.027553e+00\n           Std  1.647569e-03   0.000000e+00  0.000000e+00  3.452775e+00",
      "text/html": "<div>\n<style scoped>\n    .dataframe tbody tr th:only-of-type {\n        vertical-align: middle;\n    }\n\n    .dataframe tbody tr th {\n        vertical-align: top;\n    }\n\n    .dataframe thead th {\n        text-align: right;\n    }\n</style>\n<table border=\"1\" class=\"dataframe\">\n  <thead>\n    <tr style=\"text-align: right;\">\n      <th></th>\n      <th></th>\n      <th>BFO</th>\n      <th>DE</th>\n      <th>PSO</th>\n      <th>BA</th>\n    </tr>\n    <tr>\n      <th>Function</th>\n      <th></th>\n      <th></th>\n      <th></th>\n      <th></th>\n      <th></th>\n    </tr>\n  </thead>\n  <tbody>\n    <tr>\n      <th rowspan=\"4\" valign=\"top\">sphere</th>\n      <th>Min</th>\n      <td>4.009240e-08</td>\n      <td>4.485320e-162</td>\n      <td>2.833779e-50</td>\n      <td>7.717699e-34</td>\n    </tr>\n    <tr>\n      <th>Max</th>\n      <td>2.972042e-06</td>\n      <td>4.189761e-157</td>\n      <td>2.305317e-44</td>\n      <td>1.788926e-31</td>\n    </tr>\n    <tr>\n      <th>Avg</th>\n      <td>1.092266e-06</td>\n      <td>4.110203e-158</td>\n      <td>1.881240e-45</td>\n      <td>4.761128e-32</td>\n    </tr>\n    <tr>\n      <th>Std</th>\n      <td>8.434095e-07</td>\n      <td>9.396564e-158</td>\n      <td>4.811346e-45</td>\n      <td>4.761514e-32</td>\n    </tr>\n    <tr>\n      <th rowspan=\"4\" valign=\"top\">rastrigin</th>\n      <th>Min</th>\n      <td>1.830779e-04</td>\n      <td>0.000000e+00</td>\n      <td>0.000000e+00</td>\n      <td>0.000000e+00</td>\n    </tr>\n    <tr>\n      <th>Max</th>\n      <td>9.735960e-03</td>\n      <td>0.000000e+00</td>\n      <td>0.000000e+00</td>\n      <td>8.954601e+00</td>\n    </tr>\n    <tr>\n      <th>Avg</th>\n      <td>1.852419e-03</td>\n      <td>0.000000e+00</td>\n      <td>0.000000e+00</td>\n      <td>2.109311e+00</td>\n    </tr>\n    <tr>\n      <th>Std</th>\n      <td>1.992430e-03</td>\n      <td>0.000000e+00</td>\n      <td>0.000000e+00</td>\n      <td>2.093101e+00</td>\n    </tr>\n    <tr>\n      <th rowspan=\"4\" valign=\"top\">rosenbrock</th>\n      <th>Min</th>\n      <td>2.374664e-06</td>\n      <td>0.000000e+00</td>\n      <td>0.000000e+00</td>\n      <td>0.000000e+00</td>\n    </tr>\n    <tr>\n      <th>Max</th>\n      <td>1.189493e-04</td>\n      <td>0.000000e+00</td>\n      <td>0.000000e+00</td>\n      <td>1.491440e-30</td>\n    </tr>\n    <tr>\n      <th>Avg</th>\n      <td>3.714221e-05</td>\n      <td>0.000000e+00</td>\n      <td>0.000000e+00</td>\n      <td>3.456197e-31</td>\n    </tr>\n    <tr>\n      <th>Std</th>\n      <td>3.198339e-05</td>\n      <td>0.000000e+00</td>\n      <td>0.000000e+00</td>\n      <td>4.533602e-31</td>\n    </tr>\n    <tr>\n      <th rowspan=\"4\" valign=\"top\">griewank</th>\n      <th>Min</th>\n      <td>2.959155e-02</td>\n      <td>0.000000e+00</td>\n      <td>4.683522e-02</td>\n      <td>2.958416e-02</td>\n    </tr>\n    <tr>\n      <th>Max</th>\n      <td>1.509081e+00</td>\n      <td>7.396040e-03</td>\n      <td>8.355980e+00</td>\n      <td>2.248987e+00</td>\n    </tr>\n    <tr>\n      <th>Avg</th>\n      <td>8.471907e-01</td>\n      <td>8.875248e-04</td>\n      <td>1.626426e+00</td>\n      <td>8.611898e-01</td>\n    </tr>\n    <tr>\n      <th>Std</th>\n      <td>4.790228e-01</td>\n      <td>2.403429e-03</td>\n      <td>1.661912e+00</td>\n      <td>7.043709e-01</td>\n    </tr>\n    <tr>\n      <th rowspan=\"4\" valign=\"top\">ackley</th>\n      <th>Min</th>\n      <td>6.359676e-04</td>\n      <td>4.440892e-16</td>\n      <td>4.440892e-16</td>\n      <td>4.440892e-16</td>\n    </tr>\n    <tr>\n      <th>Max</th>\n      <td>6.351869e-03</td>\n      <td>4.440892e-16</td>\n      <td>4.440892e-16</td>\n      <td>1.121755e+01</td>\n    </tr>\n    <tr>\n      <th>Avg</th>\n      <td>3.547066e-03</td>\n      <td>4.440892e-16</td>\n      <td>4.440892e-16</td>\n      <td>6.027553e+00</td>\n    </tr>\n    <tr>\n      <th>Std</th>\n      <td>1.647569e-03</td>\n      <td>0.000000e+00</td>\n      <td>0.000000e+00</td>\n      <td>3.452775e+00</td>\n    </tr>\n  </tbody>\n</table>\n</div>"
     },
     "execution_count": 4,
     "metadata": {},
     "output_type": "execute_result"
    }
   ],
   "source": [
    "df_2d"
   ]
  },
  {
   "cell_type": "markdown",
   "metadata": {},
   "source": [
    "#### Results on 10D functions\n"
   ]
  },
  {
   "cell_type": "code",
   "execution_count": 5,
   "metadata": {
    "pycharm": {
     "name": "#%%\n"
    }
   },
   "outputs": [
    {
     "data": {
      "text/plain": "                       BFO            DE           PSO            BA\nFunction                                                            \nsphere     Min    0.028820  5.859912e-12  1.784988e-46  4.198721e-29\n           Max    0.071203  6.828090e-11  5.344668e-43  1.306046e-28\n           Avg    0.053596  2.326716e-11  5.581958e-44  7.263335e-29\n           Std    0.010807  1.492819e-11  1.103027e-43  1.947734e-29\nrastrigin  Min   17.292585  2.454103e+01  1.989918e+00  2.188906e+01\n           Max   31.132997  3.810425e+01  1.094454e+01  8.258103e+01\n           Avg   24.506326  3.184321e+01  6.208548e+00  4.517094e+01\n           Std    3.491466  3.433681e+00  2.148366e+00  1.341081e+01\nrosenbrock Min    9.025270  4.423391e-04  3.351397e-07  9.028447e-02\n           Max   13.585160  1.771339e-03  3.986956e+00  5.637973e+00\n           Avg   11.576412  1.010592e-03  4.786869e-01  1.456926e+00\n           Std    1.181685  3.477479e-04  1.295436e+00  1.891290e+00\ngriewank   Min   61.486896  3.076045e-01  6.894129e+01  5.244709e+01\n           Max  134.854562  5.496584e-01  1.606384e+02  1.320192e+02\n           Avg   97.734537  4.822875e-01  1.076671e+02  8.265558e+01\n           Std   15.789248  5.102596e-02  2.045888e+01  1.966807e+01\nackley     Min   13.353240  3.596063e-05  3.996803e-15  1.565883e+01\n           Max   18.726478  1.317581e-04  8.487877e-12  1.890950e+01\n           Avg   17.348207  7.734430e-05  3.568523e-13  1.801362e+01\n           Std    1.180727  2.473221e-05  1.660012e-12  7.330711e-01",
      "text/html": "<div>\n<style scoped>\n    .dataframe tbody tr th:only-of-type {\n        vertical-align: middle;\n    }\n\n    .dataframe tbody tr th {\n        vertical-align: top;\n    }\n\n    .dataframe thead th {\n        text-align: right;\n    }\n</style>\n<table border=\"1\" class=\"dataframe\">\n  <thead>\n    <tr style=\"text-align: right;\">\n      <th></th>\n      <th></th>\n      <th>BFO</th>\n      <th>DE</th>\n      <th>PSO</th>\n      <th>BA</th>\n    </tr>\n    <tr>\n      <th>Function</th>\n      <th></th>\n      <th></th>\n      <th></th>\n      <th></th>\n      <th></th>\n    </tr>\n  </thead>\n  <tbody>\n    <tr>\n      <th rowspan=\"4\" valign=\"top\">sphere</th>\n      <th>Min</th>\n      <td>0.028820</td>\n      <td>5.859912e-12</td>\n      <td>1.784988e-46</td>\n      <td>4.198721e-29</td>\n    </tr>\n    <tr>\n      <th>Max</th>\n      <td>0.071203</td>\n      <td>6.828090e-11</td>\n      <td>5.344668e-43</td>\n      <td>1.306046e-28</td>\n    </tr>\n    <tr>\n      <th>Avg</th>\n      <td>0.053596</td>\n      <td>2.326716e-11</td>\n      <td>5.581958e-44</td>\n      <td>7.263335e-29</td>\n    </tr>\n    <tr>\n      <th>Std</th>\n      <td>0.010807</td>\n      <td>1.492819e-11</td>\n      <td>1.103027e-43</td>\n      <td>1.947734e-29</td>\n    </tr>\n    <tr>\n      <th rowspan=\"4\" valign=\"top\">rastrigin</th>\n      <th>Min</th>\n      <td>17.292585</td>\n      <td>2.454103e+01</td>\n      <td>1.989918e+00</td>\n      <td>2.188906e+01</td>\n    </tr>\n    <tr>\n      <th>Max</th>\n      <td>31.132997</td>\n      <td>3.810425e+01</td>\n      <td>1.094454e+01</td>\n      <td>8.258103e+01</td>\n    </tr>\n    <tr>\n      <th>Avg</th>\n      <td>24.506326</td>\n      <td>3.184321e+01</td>\n      <td>6.208548e+00</td>\n      <td>4.517094e+01</td>\n    </tr>\n    <tr>\n      <th>Std</th>\n      <td>3.491466</td>\n      <td>3.433681e+00</td>\n      <td>2.148366e+00</td>\n      <td>1.341081e+01</td>\n    </tr>\n    <tr>\n      <th rowspan=\"4\" valign=\"top\">rosenbrock</th>\n      <th>Min</th>\n      <td>9.025270</td>\n      <td>4.423391e-04</td>\n      <td>3.351397e-07</td>\n      <td>9.028447e-02</td>\n    </tr>\n    <tr>\n      <th>Max</th>\n      <td>13.585160</td>\n      <td>1.771339e-03</td>\n      <td>3.986956e+00</td>\n      <td>5.637973e+00</td>\n    </tr>\n    <tr>\n      <th>Avg</th>\n      <td>11.576412</td>\n      <td>1.010592e-03</td>\n      <td>4.786869e-01</td>\n      <td>1.456926e+00</td>\n    </tr>\n    <tr>\n      <th>Std</th>\n      <td>1.181685</td>\n      <td>3.477479e-04</td>\n      <td>1.295436e+00</td>\n      <td>1.891290e+00</td>\n    </tr>\n    <tr>\n      <th rowspan=\"4\" valign=\"top\">griewank</th>\n      <th>Min</th>\n      <td>61.486896</td>\n      <td>3.076045e-01</td>\n      <td>6.894129e+01</td>\n      <td>5.244709e+01</td>\n    </tr>\n    <tr>\n      <th>Max</th>\n      <td>134.854562</td>\n      <td>5.496584e-01</td>\n      <td>1.606384e+02</td>\n      <td>1.320192e+02</td>\n    </tr>\n    <tr>\n      <th>Avg</th>\n      <td>97.734537</td>\n      <td>4.822875e-01</td>\n      <td>1.076671e+02</td>\n      <td>8.265558e+01</td>\n    </tr>\n    <tr>\n      <th>Std</th>\n      <td>15.789248</td>\n      <td>5.102596e-02</td>\n      <td>2.045888e+01</td>\n      <td>1.966807e+01</td>\n    </tr>\n    <tr>\n      <th rowspan=\"4\" valign=\"top\">ackley</th>\n      <th>Min</th>\n      <td>13.353240</td>\n      <td>3.596063e-05</td>\n      <td>3.996803e-15</td>\n      <td>1.565883e+01</td>\n    </tr>\n    <tr>\n      <th>Max</th>\n      <td>18.726478</td>\n      <td>1.317581e-04</td>\n      <td>8.487877e-12</td>\n      <td>1.890950e+01</td>\n    </tr>\n    <tr>\n      <th>Avg</th>\n      <td>17.348207</td>\n      <td>7.734430e-05</td>\n      <td>3.568523e-13</td>\n      <td>1.801362e+01</td>\n    </tr>\n    <tr>\n      <th>Std</th>\n      <td>1.180727</td>\n      <td>2.473221e-05</td>\n      <td>1.660012e-12</td>\n      <td>7.330711e-01</td>\n    </tr>\n  </tbody>\n</table>\n</div>"
     },
     "execution_count": 5,
     "metadata": {},
     "output_type": "execute_result"
    }
   ],
   "source": [
    "df_10d"
   ]
  },
  {
   "cell_type": "markdown",
   "metadata": {},
   "source": [
    "#### Results on 20D functions\n"
   ]
  },
  {
   "cell_type": "code",
   "execution_count": 6,
   "metadata": {
    "pycharm": {
     "name": "#%%\n"
    }
   },
   "outputs": [
    {
     "data": {
      "text/plain": "                       BFO          DE           PSO            BA\nFunction                                                          \nsphere     Min    0.215761    0.464479  7.198940e-47  2.554308e-28\n           Max    0.440454    1.099167  1.657369e-42  6.249821e-28\n           Avg    0.334012    0.697564  1.603722e-43  4.239719e-28\n           Std    0.056876    0.140915  4.046522e-43  9.043822e-29\nrastrigin  Min   82.625972  128.674623  1.094455e+01  7.860148e+01\n           Max  122.172473  171.503525  3.681344e+01  1.681471e+02\n           Avg  104.297296  151.884812  2.105332e+01  1.143799e+02\n           Std   10.029641   10.980204  6.525464e+00  1.875048e+01\nrosenbrock Min   43.569192   38.339393  1.996263e-02  5.993180e+00\n           Max   60.702274  143.560174  1.007415e+01  2.737017e+01\n           Avg   53.091795   77.420616  1.607504e+00  1.230905e+01\n           Std    4.305257   24.135431  2.255167e+00  3.615378e+00\ngriewank   Min  204.099924    2.519839  2.350464e+02  1.777664e+02\n           Max  348.344509    6.066611  3.683761e+02  3.066557e+02\n           Avg  292.701082    3.725202  3.008386e+02  2.479229e+02\n           Std   41.477098    0.743840  3.733392e+01  3.454475e+01\nackley     Min   18.558890    5.391110  7.451786e-10  1.793255e+01\n           Max   19.723407    7.400904  3.236364e+00  1.958693e+01\n           Avg   19.204801    6.512587  1.418483e+00  1.876375e+01\n           Std    0.308571    0.546504  9.163203e-01  3.814435e-01",
      "text/html": "<div>\n<style scoped>\n    .dataframe tbody tr th:only-of-type {\n        vertical-align: middle;\n    }\n\n    .dataframe tbody tr th {\n        vertical-align: top;\n    }\n\n    .dataframe thead th {\n        text-align: right;\n    }\n</style>\n<table border=\"1\" class=\"dataframe\">\n  <thead>\n    <tr style=\"text-align: right;\">\n      <th></th>\n      <th></th>\n      <th>BFO</th>\n      <th>DE</th>\n      <th>PSO</th>\n      <th>BA</th>\n    </tr>\n    <tr>\n      <th>Function</th>\n      <th></th>\n      <th></th>\n      <th></th>\n      <th></th>\n      <th></th>\n    </tr>\n  </thead>\n  <tbody>\n    <tr>\n      <th rowspan=\"4\" valign=\"top\">sphere</th>\n      <th>Min</th>\n      <td>0.215761</td>\n      <td>0.464479</td>\n      <td>7.198940e-47</td>\n      <td>2.554308e-28</td>\n    </tr>\n    <tr>\n      <th>Max</th>\n      <td>0.440454</td>\n      <td>1.099167</td>\n      <td>1.657369e-42</td>\n      <td>6.249821e-28</td>\n    </tr>\n    <tr>\n      <th>Avg</th>\n      <td>0.334012</td>\n      <td>0.697564</td>\n      <td>1.603722e-43</td>\n      <td>4.239719e-28</td>\n    </tr>\n    <tr>\n      <th>Std</th>\n      <td>0.056876</td>\n      <td>0.140915</td>\n      <td>4.046522e-43</td>\n      <td>9.043822e-29</td>\n    </tr>\n    <tr>\n      <th rowspan=\"4\" valign=\"top\">rastrigin</th>\n      <th>Min</th>\n      <td>82.625972</td>\n      <td>128.674623</td>\n      <td>1.094455e+01</td>\n      <td>7.860148e+01</td>\n    </tr>\n    <tr>\n      <th>Max</th>\n      <td>122.172473</td>\n      <td>171.503525</td>\n      <td>3.681344e+01</td>\n      <td>1.681471e+02</td>\n    </tr>\n    <tr>\n      <th>Avg</th>\n      <td>104.297296</td>\n      <td>151.884812</td>\n      <td>2.105332e+01</td>\n      <td>1.143799e+02</td>\n    </tr>\n    <tr>\n      <th>Std</th>\n      <td>10.029641</td>\n      <td>10.980204</td>\n      <td>6.525464e+00</td>\n      <td>1.875048e+01</td>\n    </tr>\n    <tr>\n      <th rowspan=\"4\" valign=\"top\">rosenbrock</th>\n      <th>Min</th>\n      <td>43.569192</td>\n      <td>38.339393</td>\n      <td>1.996263e-02</td>\n      <td>5.993180e+00</td>\n    </tr>\n    <tr>\n      <th>Max</th>\n      <td>60.702274</td>\n      <td>143.560174</td>\n      <td>1.007415e+01</td>\n      <td>2.737017e+01</td>\n    </tr>\n    <tr>\n      <th>Avg</th>\n      <td>53.091795</td>\n      <td>77.420616</td>\n      <td>1.607504e+00</td>\n      <td>1.230905e+01</td>\n    </tr>\n    <tr>\n      <th>Std</th>\n      <td>4.305257</td>\n      <td>24.135431</td>\n      <td>2.255167e+00</td>\n      <td>3.615378e+00</td>\n    </tr>\n    <tr>\n      <th rowspan=\"4\" valign=\"top\">griewank</th>\n      <th>Min</th>\n      <td>204.099924</td>\n      <td>2.519839</td>\n      <td>2.350464e+02</td>\n      <td>1.777664e+02</td>\n    </tr>\n    <tr>\n      <th>Max</th>\n      <td>348.344509</td>\n      <td>6.066611</td>\n      <td>3.683761e+02</td>\n      <td>3.066557e+02</td>\n    </tr>\n    <tr>\n      <th>Avg</th>\n      <td>292.701082</td>\n      <td>3.725202</td>\n      <td>3.008386e+02</td>\n      <td>2.479229e+02</td>\n    </tr>\n    <tr>\n      <th>Std</th>\n      <td>41.477098</td>\n      <td>0.743840</td>\n      <td>3.733392e+01</td>\n      <td>3.454475e+01</td>\n    </tr>\n    <tr>\n      <th rowspan=\"4\" valign=\"top\">ackley</th>\n      <th>Min</th>\n      <td>18.558890</td>\n      <td>5.391110</td>\n      <td>7.451786e-10</td>\n      <td>1.793255e+01</td>\n    </tr>\n    <tr>\n      <th>Max</th>\n      <td>19.723407</td>\n      <td>7.400904</td>\n      <td>3.236364e+00</td>\n      <td>1.958693e+01</td>\n    </tr>\n    <tr>\n      <th>Avg</th>\n      <td>19.204801</td>\n      <td>6.512587</td>\n      <td>1.418483e+00</td>\n      <td>1.876375e+01</td>\n    </tr>\n    <tr>\n      <th>Std</th>\n      <td>0.308571</td>\n      <td>0.546504</td>\n      <td>9.163203e-01</td>\n      <td>3.814435e-01</td>\n    </tr>\n  </tbody>\n</table>\n</div>"
     },
     "execution_count": 6,
     "metadata": {},
     "output_type": "execute_result"
    }
   ],
   "source": [
    "df_20d"
   ]
  },
  {
   "cell_type": "markdown",
   "metadata": {},
   "source": [
    "#### Results on 30D functions"
   ]
  },
  {
   "cell_type": "code",
   "execution_count": 7,
   "metadata": {
    "pycharm": {
     "name": "#%%\n"
    }
   },
   "outputs": [
    {
     "data": {
      "text/plain": "                       BFO           DE           PSO            BA\nFunction                                                           \nsphere     Min    0.541892    13.828744  8.128922e-43  5.858613e-28\n           Max    0.931078    27.050384  7.608604e-30  1.612221e-27\n           Avg    0.794114    21.563654  3.044904e-31  1.076378e-27\n           Std    0.090195     3.709141  1.490946e-30  2.085351e-28\nrastrigin  Min  174.117507   271.745891  1.989917e+01  1.373038e+02\n           Max  232.628228   319.152928  4.775797e+01  2.109303e+02\n           Avg  207.234430   295.920324  3.243563e+01  1.785743e+02\n           Std   14.868384    14.466385  8.156219e+00  2.146535e+01\nrosenbrock Min   89.056033   363.496931  9.023794e+00  1.931654e+01\n           Max  126.847853  1106.892976  2.183965e+01  8.235849e+01\n           Avg  112.899556   632.472291  1.469143e+01  2.728693e+01\n           Std    9.248140   178.376378  2.747748e+00  1.456256e+01\ngriewank   Min  439.449714    52.305764  4.164309e+02  3.494320e+02\n           Max  576.673290    97.976937  6.342174e+02  5.653036e+02\n           Avg  515.999778    69.532188  5.445803e+02  4.880491e+02\n           Std   32.629131    12.763708  4.924288e+01  5.875190e+01\nackley     Min   18.800613    13.937829  1.831108e+00  1.863118e+01\n           Max   20.015352    16.616703  6.522828e+00  1.934063e+01\n           Avg   19.727391    15.678709  3.784509e+00  1.901809e+01\n           Std    0.247219     0.643367  1.158960e+00  1.796792e-01",
      "text/html": "<div>\n<style scoped>\n    .dataframe tbody tr th:only-of-type {\n        vertical-align: middle;\n    }\n\n    .dataframe tbody tr th {\n        vertical-align: top;\n    }\n\n    .dataframe thead th {\n        text-align: right;\n    }\n</style>\n<table border=\"1\" class=\"dataframe\">\n  <thead>\n    <tr style=\"text-align: right;\">\n      <th></th>\n      <th></th>\n      <th>BFO</th>\n      <th>DE</th>\n      <th>PSO</th>\n      <th>BA</th>\n    </tr>\n    <tr>\n      <th>Function</th>\n      <th></th>\n      <th></th>\n      <th></th>\n      <th></th>\n      <th></th>\n    </tr>\n  </thead>\n  <tbody>\n    <tr>\n      <th rowspan=\"4\" valign=\"top\">sphere</th>\n      <th>Min</th>\n      <td>0.541892</td>\n      <td>13.828744</td>\n      <td>8.128922e-43</td>\n      <td>5.858613e-28</td>\n    </tr>\n    <tr>\n      <th>Max</th>\n      <td>0.931078</td>\n      <td>27.050384</td>\n      <td>7.608604e-30</td>\n      <td>1.612221e-27</td>\n    </tr>\n    <tr>\n      <th>Avg</th>\n      <td>0.794114</td>\n      <td>21.563654</td>\n      <td>3.044904e-31</td>\n      <td>1.076378e-27</td>\n    </tr>\n    <tr>\n      <th>Std</th>\n      <td>0.090195</td>\n      <td>3.709141</td>\n      <td>1.490946e-30</td>\n      <td>2.085351e-28</td>\n    </tr>\n    <tr>\n      <th rowspan=\"4\" valign=\"top\">rastrigin</th>\n      <th>Min</th>\n      <td>174.117507</td>\n      <td>271.745891</td>\n      <td>1.989917e+01</td>\n      <td>1.373038e+02</td>\n    </tr>\n    <tr>\n      <th>Max</th>\n      <td>232.628228</td>\n      <td>319.152928</td>\n      <td>4.775797e+01</td>\n      <td>2.109303e+02</td>\n    </tr>\n    <tr>\n      <th>Avg</th>\n      <td>207.234430</td>\n      <td>295.920324</td>\n      <td>3.243563e+01</td>\n      <td>1.785743e+02</td>\n    </tr>\n    <tr>\n      <th>Std</th>\n      <td>14.868384</td>\n      <td>14.466385</td>\n      <td>8.156219e+00</td>\n      <td>2.146535e+01</td>\n    </tr>\n    <tr>\n      <th rowspan=\"4\" valign=\"top\">rosenbrock</th>\n      <th>Min</th>\n      <td>89.056033</td>\n      <td>363.496931</td>\n      <td>9.023794e+00</td>\n      <td>1.931654e+01</td>\n    </tr>\n    <tr>\n      <th>Max</th>\n      <td>126.847853</td>\n      <td>1106.892976</td>\n      <td>2.183965e+01</td>\n      <td>8.235849e+01</td>\n    </tr>\n    <tr>\n      <th>Avg</th>\n      <td>112.899556</td>\n      <td>632.472291</td>\n      <td>1.469143e+01</td>\n      <td>2.728693e+01</td>\n    </tr>\n    <tr>\n      <th>Std</th>\n      <td>9.248140</td>\n      <td>178.376378</td>\n      <td>2.747748e+00</td>\n      <td>1.456256e+01</td>\n    </tr>\n    <tr>\n      <th rowspan=\"4\" valign=\"top\">griewank</th>\n      <th>Min</th>\n      <td>439.449714</td>\n      <td>52.305764</td>\n      <td>4.164309e+02</td>\n      <td>3.494320e+02</td>\n    </tr>\n    <tr>\n      <th>Max</th>\n      <td>576.673290</td>\n      <td>97.976937</td>\n      <td>6.342174e+02</td>\n      <td>5.653036e+02</td>\n    </tr>\n    <tr>\n      <th>Avg</th>\n      <td>515.999778</td>\n      <td>69.532188</td>\n      <td>5.445803e+02</td>\n      <td>4.880491e+02</td>\n    </tr>\n    <tr>\n      <th>Std</th>\n      <td>32.629131</td>\n      <td>12.763708</td>\n      <td>4.924288e+01</td>\n      <td>5.875190e+01</td>\n    </tr>\n    <tr>\n      <th rowspan=\"4\" valign=\"top\">ackley</th>\n      <th>Min</th>\n      <td>18.800613</td>\n      <td>13.937829</td>\n      <td>1.831108e+00</td>\n      <td>1.863118e+01</td>\n    </tr>\n    <tr>\n      <th>Max</th>\n      <td>20.015352</td>\n      <td>16.616703</td>\n      <td>6.522828e+00</td>\n      <td>1.934063e+01</td>\n    </tr>\n    <tr>\n      <th>Avg</th>\n      <td>19.727391</td>\n      <td>15.678709</td>\n      <td>3.784509e+00</td>\n      <td>1.901809e+01</td>\n    </tr>\n    <tr>\n      <th>Std</th>\n      <td>0.247219</td>\n      <td>0.643367</td>\n      <td>1.158960e+00</td>\n      <td>1.796792e-01</td>\n    </tr>\n  </tbody>\n</table>\n</div>"
     },
     "execution_count": 7,
     "metadata": {},
     "output_type": "execute_result"
    }
   ],
   "source": [
    "df_30d"
   ]
  },
  {
   "cell_type": "code",
   "execution_count": 13,
   "outputs": [
    {
     "name": "stderr",
     "output_type": "stream",
     "text": []
    }
   ],
   "source": [
    "# Export to latex\n",
    "experiments.to_latex(df_2d, 'results/2d.tex')\n",
    "experiments.to_latex(df_10d, 'results/10d.tex')\n",
    "experiments.to_latex(df_20d, 'results/20d.tex')\n",
    "experiments.to_latex(df_30d, 'results/30d.tex')"
   ],
   "metadata": {
    "collapsed": false,
    "pycharm": {
     "name": "#%%\n"
    }
   }
  }
 ],
 "metadata": {
  "kernelspec": {
   "display_name": "Python 3 (ipykernel)",
   "language": "python",
   "name": "python3"
  },
  "language_info": {
   "codemirror_mode": {
    "name": "ipython",
    "version": 3
   },
   "file_extension": ".py",
   "mimetype": "text/x-python",
   "name": "python",
   "nbconvert_exporter": "python",
   "pygments_lexer": "ipython3",
   "version": "3.9.6"
  }
 },
 "nbformat": 4,
 "nbformat_minor": 1
}