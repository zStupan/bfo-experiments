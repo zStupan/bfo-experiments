{
 "cells": [
  {
   "cell_type": "markdown",
   "metadata": {
    "pycharm": {
     "name": "#%% md\n"
    }
   },
   "source": [
    "# BFO Experiments\n",
    "\n",
    "In these experiments we compared the ***Bacterial Foraging Optimization***\n",
    "(BFO) algorithm, with 3 other popular nature-inspired algorithms:\n",
    "***Differential Evolution*** (DE)\n",
    "***Particle Swarm Optimization*** (PSO) and the ***Bat Algorithm*** (BA).\n",
    "Their performance was evaluated on 5 popular test functions.\n",
    "\n",
    "## Test Functions\n",
    "\n",
    "| Name | Function | Domain | Global optimum |\n",
    "| :-: | :-: | :-: | :-: |\n",
    "| Sphere | $$f_1(\\vec{x}) = \\sum_{i=1}^{D} x_i^2 $$ | $$[-5.12, 5.12]^D$$ | $$f_1(\\vec{0}) = 0$$ |\n",
    "| Rosenbrock | $$f_2(\\vec{x}) = \\sum_{i=1}^{D-1} (100 (x_{i+1} - x_i^2)^2 + (x_i - 1)^2) $$ | $$[-2.048, 2.048]^D$$ | $$f_1(\\vec{1}) = 0$$ |\n",
    "| Rastrigin | $$f_3(\\vec{x}) = 10D + \\sum_{i=1}^D \\left(x_i^2 -10\\cos(2\\pi x_i)\\right) $$ | $$[-5.12, 5.12]^D$$ | $$f_1(\\vec{0}) = 0$$ |\n",
    "| Griewank | $$f_4(\\vec{x}) = \\sum_{i=1}^D \\frac{x_i^2}{4000} - \\prod_{i=1}^D \\cos(\\frac{x_i}{\\sqrt{i}}) + 1 $$ | $$[-600, 600]^D$$ | $$f_1(\\vec{0}) = 0$$ |\n",
    "| Ackley | $$f_5(\\vec{x}) = -a\\;\\exp\\left(-b \\sqrt{\\frac{1}{D} \\sum_{i=1}^D x_i^2}\\right) - \\exp\\left(\\frac{1}{D} \\sum_{i=1}^D cos(c\\;x_i)\\right) + a + \\exp(1) $$ | $$[-32.768, 32.768]^D$$ | $$f_1(\\vec{0}) = 0$$ |\n",
    "\n",
    "## Parameter Settings\n",
    "\n",
    "We selected the population size of 100 for all algorithms. The algorithm specific\n",
    "parameters are described below.\n",
    "\n",
    "### BFO\n",
    "\n",
    "We used the classic version of BFO as presented by K. M. Passino,\n",
    "with the following parameters:\n",
    "\n",
    "$N_c = 100$<br>\n",
    "$N_s = 4$<br>\n",
    "$N_{re} = 5$<br>\n",
    "$N_{ed} = 2$<br>\n",
    "$P_{ed} = 0.25$<br>\n",
    "$C(i) = 0.1$<br>\n",
    "$d_{attract} = 0.1$<br>\n",
    "$w_{attract} = 0.2$<br>\n",
    "$h_{repellent} = d_{attract}$<br>\n",
    "$w_{repellent} = 10.0$<br>\n",
    "\n",
    "### DE\n",
    "\n",
    "We used the DE/rand/1/bin variant with $CR=0.9$ and $F=0.8$.\n",
    "\n",
    "### PSO\n",
    "\n",
    "We used the global best PSO with velocity clamping and a constant inertia\n",
    "weight. Parameters: $w=0.9$, $c1=0.5$, $c2=0.3$, $v_{min} = -1.0$, $v_{max}=1.0$.\n",
    "\n",
    "### BA\n",
    "\n",
    "The standard Bat algorithm was used with: $A=1.0$, $r_0=1.0$, $\\alpha = 0.97$, $\\gamma=0.1$,\n",
    "$Q_{min} = 0$, $Q_{max}=2.0$.\n",
    "\n",
    "## The Experiments\n",
    "\n",
    "We performed 25 independent runs for each algorithm on 2, 10 and 20 dimensional problems,\n",
    "logging the best, worst and mean fitness values, along with the standard deviation.\n"
   ]
  },
  {
   "cell_type": "code",
   "execution_count": 3,
   "metadata": {},
   "outputs": [],
   "source": [
    "import bfo_experiments as experiments\n",
    "from niapy.algorithms.basic import (\n",
    "    BacterialForagingOptimization,\n",
    "    DifferentialEvolution,\n",
    "    ParticleSwarmAlgorithm,\n",
    "    BatAlgorithm,\n",
    ")\n",
    "from niapy.algorithms.basic.de import cross_rand1\n",
    "\n",
    "problems = (\n",
    "    'sphere',\n",
    "    'rastrigin',\n",
    "    'rosenbrock',\n",
    "    'griewank',\n",
    "    'ackley',\n",
    ")\n",
    "\n",
    "algorithms = (\n",
    "    BacterialForagingOptimization(population_size=100, n_chemotactic=100, n_reproduction=5, n_elimination=2,),\n",
    "    DifferentialEvolution(population_size=100, strategy=cross_rand1, differential_weight=0.8, crossover_probability=0.9),\n",
    "    ParticleSwarmAlgorithm(population_size=100, w=0.9, c1=0.5, c2=0.3, min_velocity=-1, max_velocity=1),\n",
    "    BatAlgorithm(population_size=100)\n",
    ")\n"
   ]
  },
  {
   "cell_type": "code",
   "execution_count": null,
   "outputs": [],
   "source": [
    "df = experiments.run(algorithms, problems, runs=25, dim=2, max_iters=1000)\n",
    "df"
   ],
   "metadata": {
    "collapsed": false,
    "pycharm": {
     "name": "#%%\n",
     "is_executing": true
    }
   }
  },
  {
   "cell_type": "code",
   "execution_count": null,
   "outputs": [],
   "source": [],
   "metadata": {
    "collapsed": false,
    "pycharm": {
     "name": "#%%\n"
    }
   }
  }
 ],
 "metadata": {
  "kernelspec": {
   "display_name": "Python 3 (ipykernel)",
   "language": "python",
   "name": "python3"
  },
  "language_info": {
   "codemirror_mode": {
    "name": "ipython",
    "version": 3
   },
   "file_extension": ".py",
   "mimetype": "text/x-python",
   "name": "python",
   "nbconvert_exporter": "python",
   "pygments_lexer": "ipython3",
   "version": "3.9.6"
  }
 },
 "nbformat": 4,
 "nbformat_minor": 1
}